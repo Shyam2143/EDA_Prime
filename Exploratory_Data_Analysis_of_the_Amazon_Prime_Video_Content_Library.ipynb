{
  "nbformat": 4,
  "nbformat_minor": 0,
  "metadata": {
    "colab": {
      "provenance": [],
      "collapsed_sections": [
        "vncDsAP0Gaoa",
        "beRrZCGUAJYm",
        "yQaldy8SH6Dl",
        "PH-0ReGfmX4f",
        "mDgbUHAGgjLW",
        "O_i_v8NEhb9l",
        "HhfV-JJviCcP",
        "Y3lxredqlCYt",
        "3RnN4peoiCZX",
        "x71ZqKXriCWQ",
        "7hBIi_osiCS2",
        "JlHwYmJAmNHm",
        "35m5QtbWiB9F",
        "PoPl-ycgm1ru",
        "H0kj-8xxnORC",
        "nA9Y7ga8ng1Z",
        "PBTbrJXOngz2",
        "u3PMJOP6ngxN",
        "dauF4eBmngu3",
        "bKJF3rekwFvQ",
        "MSa1f5Uengrz",
        "GF8Ens_Soomf",
        "0wOQAZs5pc--",
        "K5QZ13OEpz2H",
        "lQ7QKXXCp7Bj",
        "448CDAPjqfQr",
        "xJivPyE8q_2k",
        "azX1PEddq_20",
        "iyKleWeyq_20",
        "8-UX51ofq_21",
        "Of3PJYNbrGff",
        "w8bcvZxarGfg",
        "HZ6txCBBrGfh",
        "jbkhcZqdrGfh",
        "riLp7y9brHca",
        "Uw0GT_uHrHcb",
        "qTEiGUKorHcc",
        "1Qw8mtL3rHcd",
        "xnMZvg2orIPt",
        "mwHQVoIQrIPu",
        "Kwy5hImkrIPu",
        "0sjxqkK0rIPv",
        "y7avNpR9HL5z",
        "Z5yPuW4iHL50",
        "3vIdo55JHL50",
        "IlhlbgNBHL51",
        "oQ-pHCWMHO92",
        "DEMFeE18HO92",
        "MR3eS7xTHO93",
        "JmI1Y4YbHO93",
        "XGShqbS2HSAY",
        "B4XxyvTzHSAZ",
        "Mal1wQlpHSAZ",
        "BgP_e3WlHSAZ",
        "I3aNiIh9fKqZ",
        "hTF1e9PwfKqa",
        "1xrBLU6IfKqa",
        "yiLHMWFSfKqb",
        "NC_X3p0fY2L0",
        "UV0SzAkaZNRQ",
        "YPEH6qLeZNRQ",
        "q29F0dvdveiT",
        "EXh0U9oCveiU",
        "22aHeOlLveiV",
        "JcMwzZxoAimU",
        "8G2x9gOozGDZ",
        "gCX9965dhzqZ",
        "gIfDvo9L0UH2"
      ],
      "include_colab_link": true
    },
    "kernelspec": {
      "name": "python3",
      "display_name": "Python 3"
    },
    "language_info": {
      "name": "python"
    }
  },
  "cells": [
    {
      "cell_type": "markdown",
      "metadata": {
        "id": "view-in-github",
        "colab_type": "text"
      },
      "source": [
        "<a href=\"https://colab.research.google.com/github/Shyam2143/EDA_Prime/blob/main/Exploratory_Data_Analysis_of_the_Amazon_Prime_Video_Content_Library.ipynb\" target=\"_parent\"><img src=\"https://colab.research.google.com/assets/colab-badge.svg\" alt=\"Open In Colab\"/></a>"
      ]
    },
    {
      "cell_type": "markdown",
      "source": [
        "# **Project Name**    -  **Analysis of the Amazon Prime Video Content Library**\n",
        "\n"
      ],
      "metadata": {
        "id": "vncDsAP0Gaoa"
      }
    },
    {
      "cell_type": "markdown",
      "source": [
        "##### **Project Type**    - EDA\n",
        "##### **Contribution**    - Individual\n"
      ],
      "metadata": {
        "id": "beRrZCGUAJYm"
      }
    },
    {
      "cell_type": "markdown",
      "source": [
        "# **Problem Statement**\n"
      ],
      "metadata": {
        "id": "yQaldy8SH6Dl"
      }
    },
    {
      "cell_type": "markdown",
      "source": [
        "The goal is to analyze Amazon Prime Video’s content data to extract insights that influence content strategy and decisions, such as:\n",
        "\n",
        "\t•\tContent Diversity: What genres dominate the platform?\n",
        "\n",
        "\t•\tRegional Availability: How is content distributed across different regions?\n",
        "\n",
        "\t•\tTrends Over Time: How has Amazon Prime’s content library evolved?\n",
        "\n",
        "\t•\tIMDb Ratings & Popularity: Which titles are the highest-rated and most popular?\n",
        "\n",
        "\n",
        "**BUSINESS PROBLEM OVERVIEW**\n",
        "\n",
        "\n",
        "In the highly competitive streaming market, platforms like Amazon Prime Video must continuously optimize their content offerings to attract and retain subscribers. By analyzing the existing library, we can provide data-driven recommendations to key stakeholders. For instance, content acquisition teams can identify popular but under-represented genres, marketing teams can highlight top-rated content, and strategists can track the platform's growth and competitive positioning over time.\n",
        "\n",
        "In today's competitive streaming industry, platforms like Amazon Prime Video are constantly expanding their content libraries to cater to diverse audiences. With a growing number of shows and movies available on the platform, data-driven insights play a crucial role in understanding trends, audience preferences, and content strategy.\n",
        "This data set was created to list all shows available on Amazon Prime streaming, and analyze the data to find interesting facts. This dataset has data available in the United States.\n",
        "This dataset has 2 csv files and it is a mix of categorical and numeric values."
      ],
      "metadata": {
        "id": "DpeJGUA3kjGy"
      }
    },
    {
      "cell_type": "markdown",
      "source": [
        "#### **Define Your Business Objective?**"
      ],
      "metadata": {
        "id": "PH-0ReGfmX4f"
      }
    },
    {
      "cell_type": "markdown",
      "source": [
        "***To use data analysis to decide what content to acquire and promote, in order to increase viewer engagement and reduce subscriber churn.***"
      ],
      "metadata": {
        "id": "PhDvGCAqmjP1"
      }
    },
    {
      "cell_type": "markdown",
      "source": [
        "# ***Let's Begin !***"
      ],
      "metadata": {
        "id": "O_i_v8NEhb9l"
      }
    },
    {
      "cell_type": "markdown",
      "source": [
        "## ***1. Know Your Data***"
      ],
      "metadata": {
        "id": "HhfV-JJviCcP"
      }
    },
    {
      "cell_type": "markdown",
      "source": [
        "### Import Libraries"
      ],
      "metadata": {
        "id": "Y3lxredqlCYt"
      }
    },
    {
      "cell_type": "code",
      "source": [
        "# Import Libraries\n",
        "import pandas as pd\n",
        "import numpy as np\n",
        "import matplotlib.pyplot as plt\n",
        "import seaborn as sns"
      ],
      "metadata": {
        "id": "M8Vqi-pPk-HR"
      },
      "execution_count": null,
      "outputs": []
    },
    {
      "cell_type": "markdown",
      "source": [
        "### Dataset Loading"
      ],
      "metadata": {
        "id": "3RnN4peoiCZX"
      }
    },
    {
      "cell_type": "code",
      "source": [
        "# Load Dataset\n",
        "try:\n",
        "    titles_df = pd.read_csv('titles.csv')\n",
        "    credits_df = pd.read_csv('credits.csv')\n",
        "except FileNotFoundError:\n",
        "    print(\"Make sure 'titles.csv' and 'credits.csv' are in the correct directory.\")"
      ],
      "metadata": {
        "id": "4CkvbW_SlZ_R"
      },
      "execution_count": null,
      "outputs": []
    },
    {
      "cell_type": "markdown",
      "source": [
        "### Dataset First View"
      ],
      "metadata": {
        "id": "x71ZqKXriCWQ"
      }
    },
    {
      "cell_type": "code",
      "source": [
        "# Dataset First\n",
        "titles_df.head(2)"
      ],
      "metadata": {
        "id": "LWNFOSvLl09H",
        "colab": {
          "base_uri": "https://localhost:8080/",
          "height": 250
        },
        "outputId": "75a55b3f-2932-4e8f-abf6-c9799aaab951"
      },
      "execution_count": null,
      "outputs": [
        {
          "output_type": "execute_result",
          "data": {
            "text/plain": [
              "        id              title   type  \\\n",
              "0  ts20945  The Three Stooges   SHOW   \n",
              "1  tm19248        The General  MOVIE   \n",
              "\n",
              "                                         description  release_year  \\\n",
              "0  The Three Stooges were an American vaudeville ...          1934   \n",
              "1  During America’s Civil War, Union spies steal ...          1926   \n",
              "\n",
              "  age_certification  runtime  \\\n",
              "0             TV-PG       19   \n",
              "1               NaN       78   \n",
              "\n",
              "                                              genres production_countries  \\\n",
              "0  ['comedy', 'family', 'animation', 'action', 'f...               ['US']   \n",
              "1  ['action', 'drama', 'war', 'western', 'comedy'...               ['US']   \n",
              "\n",
              "   seasons    imdb_id  imdb_score  imdb_votes  tmdb_popularity  tmdb_score  \n",
              "0     26.0  tt0850645         8.6      1092.0           15.424         7.6  \n",
              "1      NaN  tt0017925         8.2     89766.0            8.647         8.0  "
            ],
            "text/html": [
              "\n",
              "  <div id=\"df-99ccbd3a-8044-4a55-9083-bf8e1f4c9658\" class=\"colab-df-container\">\n",
              "    <div>\n",
              "<style scoped>\n",
              "    .dataframe tbody tr th:only-of-type {\n",
              "        vertical-align: middle;\n",
              "    }\n",
              "\n",
              "    .dataframe tbody tr th {\n",
              "        vertical-align: top;\n",
              "    }\n",
              "\n",
              "    .dataframe thead th {\n",
              "        text-align: right;\n",
              "    }\n",
              "</style>\n",
              "<table border=\"1\" class=\"dataframe\">\n",
              "  <thead>\n",
              "    <tr style=\"text-align: right;\">\n",
              "      <th></th>\n",
              "      <th>id</th>\n",
              "      <th>title</th>\n",
              "      <th>type</th>\n",
              "      <th>description</th>\n",
              "      <th>release_year</th>\n",
              "      <th>age_certification</th>\n",
              "      <th>runtime</th>\n",
              "      <th>genres</th>\n",
              "      <th>production_countries</th>\n",
              "      <th>seasons</th>\n",
              "      <th>imdb_id</th>\n",
              "      <th>imdb_score</th>\n",
              "      <th>imdb_votes</th>\n",
              "      <th>tmdb_popularity</th>\n",
              "      <th>tmdb_score</th>\n",
              "    </tr>\n",
              "  </thead>\n",
              "  <tbody>\n",
              "    <tr>\n",
              "      <th>0</th>\n",
              "      <td>ts20945</td>\n",
              "      <td>The Three Stooges</td>\n",
              "      <td>SHOW</td>\n",
              "      <td>The Three Stooges were an American vaudeville ...</td>\n",
              "      <td>1934</td>\n",
              "      <td>TV-PG</td>\n",
              "      <td>19</td>\n",
              "      <td>['comedy', 'family', 'animation', 'action', 'f...</td>\n",
              "      <td>['US']</td>\n",
              "      <td>26.0</td>\n",
              "      <td>tt0850645</td>\n",
              "      <td>8.6</td>\n",
              "      <td>1092.0</td>\n",
              "      <td>15.424</td>\n",
              "      <td>7.6</td>\n",
              "    </tr>\n",
              "    <tr>\n",
              "      <th>1</th>\n",
              "      <td>tm19248</td>\n",
              "      <td>The General</td>\n",
              "      <td>MOVIE</td>\n",
              "      <td>During America’s Civil War, Union spies steal ...</td>\n",
              "      <td>1926</td>\n",
              "      <td>NaN</td>\n",
              "      <td>78</td>\n",
              "      <td>['action', 'drama', 'war', 'western', 'comedy'...</td>\n",
              "      <td>['US']</td>\n",
              "      <td>NaN</td>\n",
              "      <td>tt0017925</td>\n",
              "      <td>8.2</td>\n",
              "      <td>89766.0</td>\n",
              "      <td>8.647</td>\n",
              "      <td>8.0</td>\n",
              "    </tr>\n",
              "  </tbody>\n",
              "</table>\n",
              "</div>\n",
              "    <div class=\"colab-df-buttons\">\n",
              "\n",
              "  <div class=\"colab-df-container\">\n",
              "    <button class=\"colab-df-convert\" onclick=\"convertToInteractive('df-99ccbd3a-8044-4a55-9083-bf8e1f4c9658')\"\n",
              "            title=\"Convert this dataframe to an interactive table.\"\n",
              "            style=\"display:none;\">\n",
              "\n",
              "  <svg xmlns=\"http://www.w3.org/2000/svg\" height=\"24px\" viewBox=\"0 -960 960 960\">\n",
              "    <path d=\"M120-120v-720h720v720H120Zm60-500h600v-160H180v160Zm220 220h160v-160H400v160Zm0 220h160v-160H400v160ZM180-400h160v-160H180v160Zm440 0h160v-160H620v160ZM180-180h160v-160H180v160Zm440 0h160v-160H620v160Z\"/>\n",
              "  </svg>\n",
              "    </button>\n",
              "\n",
              "  <style>\n",
              "    .colab-df-container {\n",
              "      display:flex;\n",
              "      gap: 12px;\n",
              "    }\n",
              "\n",
              "    .colab-df-convert {\n",
              "      background-color: #E8F0FE;\n",
              "      border: none;\n",
              "      border-radius: 50%;\n",
              "      cursor: pointer;\n",
              "      display: none;\n",
              "      fill: #1967D2;\n",
              "      height: 32px;\n",
              "      padding: 0 0 0 0;\n",
              "      width: 32px;\n",
              "    }\n",
              "\n",
              "    .colab-df-convert:hover {\n",
              "      background-color: #E2EBFA;\n",
              "      box-shadow: 0px 1px 2px rgba(60, 64, 67, 0.3), 0px 1px 3px 1px rgba(60, 64, 67, 0.15);\n",
              "      fill: #174EA6;\n",
              "    }\n",
              "\n",
              "    .colab-df-buttons div {\n",
              "      margin-bottom: 4px;\n",
              "    }\n",
              "\n",
              "    [theme=dark] .colab-df-convert {\n",
              "      background-color: #3B4455;\n",
              "      fill: #D2E3FC;\n",
              "    }\n",
              "\n",
              "    [theme=dark] .colab-df-convert:hover {\n",
              "      background-color: #434B5C;\n",
              "      box-shadow: 0px 1px 3px 1px rgba(0, 0, 0, 0.15);\n",
              "      filter: drop-shadow(0px 1px 2px rgba(0, 0, 0, 0.3));\n",
              "      fill: #FFFFFF;\n",
              "    }\n",
              "  </style>\n",
              "\n",
              "    <script>\n",
              "      const buttonEl =\n",
              "        document.querySelector('#df-99ccbd3a-8044-4a55-9083-bf8e1f4c9658 button.colab-df-convert');\n",
              "      buttonEl.style.display =\n",
              "        google.colab.kernel.accessAllowed ? 'block' : 'none';\n",
              "\n",
              "      async function convertToInteractive(key) {\n",
              "        const element = document.querySelector('#df-99ccbd3a-8044-4a55-9083-bf8e1f4c9658');\n",
              "        const dataTable =\n",
              "          await google.colab.kernel.invokeFunction('convertToInteractive',\n",
              "                                                    [key], {});\n",
              "        if (!dataTable) return;\n",
              "\n",
              "        const docLinkHtml = 'Like what you see? Visit the ' +\n",
              "          '<a target=\"_blank\" href=https://colab.research.google.com/notebooks/data_table.ipynb>data table notebook</a>'\n",
              "          + ' to learn more about interactive tables.';\n",
              "        element.innerHTML = '';\n",
              "        dataTable['output_type'] = 'display_data';\n",
              "        await google.colab.output.renderOutput(dataTable, element);\n",
              "        const docLink = document.createElement('div');\n",
              "        docLink.innerHTML = docLinkHtml;\n",
              "        element.appendChild(docLink);\n",
              "      }\n",
              "    </script>\n",
              "  </div>\n",
              "\n",
              "\n",
              "    <div id=\"df-bdd0b824-9060-4d7a-9f25-39ee70ed1ed3\">\n",
              "      <button class=\"colab-df-quickchart\" onclick=\"quickchart('df-bdd0b824-9060-4d7a-9f25-39ee70ed1ed3')\"\n",
              "                title=\"Suggest charts\"\n",
              "                style=\"display:none;\">\n",
              "\n",
              "<svg xmlns=\"http://www.w3.org/2000/svg\" height=\"24px\"viewBox=\"0 0 24 24\"\n",
              "     width=\"24px\">\n",
              "    <g>\n",
              "        <path d=\"M19 3H5c-1.1 0-2 .9-2 2v14c0 1.1.9 2 2 2h14c1.1 0 2-.9 2-2V5c0-1.1-.9-2-2-2zM9 17H7v-7h2v7zm4 0h-2V7h2v10zm4 0h-2v-4h2v4z\"/>\n",
              "    </g>\n",
              "</svg>\n",
              "      </button>\n",
              "\n",
              "<style>\n",
              "  .colab-df-quickchart {\n",
              "      --bg-color: #E8F0FE;\n",
              "      --fill-color: #1967D2;\n",
              "      --hover-bg-color: #E2EBFA;\n",
              "      --hover-fill-color: #174EA6;\n",
              "      --disabled-fill-color: #AAA;\n",
              "      --disabled-bg-color: #DDD;\n",
              "  }\n",
              "\n",
              "  [theme=dark] .colab-df-quickchart {\n",
              "      --bg-color: #3B4455;\n",
              "      --fill-color: #D2E3FC;\n",
              "      --hover-bg-color: #434B5C;\n",
              "      --hover-fill-color: #FFFFFF;\n",
              "      --disabled-bg-color: #3B4455;\n",
              "      --disabled-fill-color: #666;\n",
              "  }\n",
              "\n",
              "  .colab-df-quickchart {\n",
              "    background-color: var(--bg-color);\n",
              "    border: none;\n",
              "    border-radius: 50%;\n",
              "    cursor: pointer;\n",
              "    display: none;\n",
              "    fill: var(--fill-color);\n",
              "    height: 32px;\n",
              "    padding: 0;\n",
              "    width: 32px;\n",
              "  }\n",
              "\n",
              "  .colab-df-quickchart:hover {\n",
              "    background-color: var(--hover-bg-color);\n",
              "    box-shadow: 0 1px 2px rgba(60, 64, 67, 0.3), 0 1px 3px 1px rgba(60, 64, 67, 0.15);\n",
              "    fill: var(--button-hover-fill-color);\n",
              "  }\n",
              "\n",
              "  .colab-df-quickchart-complete:disabled,\n",
              "  .colab-df-quickchart-complete:disabled:hover {\n",
              "    background-color: var(--disabled-bg-color);\n",
              "    fill: var(--disabled-fill-color);\n",
              "    box-shadow: none;\n",
              "  }\n",
              "\n",
              "  .colab-df-spinner {\n",
              "    border: 2px solid var(--fill-color);\n",
              "    border-color: transparent;\n",
              "    border-bottom-color: var(--fill-color);\n",
              "    animation:\n",
              "      spin 1s steps(1) infinite;\n",
              "  }\n",
              "\n",
              "  @keyframes spin {\n",
              "    0% {\n",
              "      border-color: transparent;\n",
              "      border-bottom-color: var(--fill-color);\n",
              "      border-left-color: var(--fill-color);\n",
              "    }\n",
              "    20% {\n",
              "      border-color: transparent;\n",
              "      border-left-color: var(--fill-color);\n",
              "      border-top-color: var(--fill-color);\n",
              "    }\n",
              "    30% {\n",
              "      border-color: transparent;\n",
              "      border-left-color: var(--fill-color);\n",
              "      border-top-color: var(--fill-color);\n",
              "      border-right-color: var(--fill-color);\n",
              "    }\n",
              "    40% {\n",
              "      border-color: transparent;\n",
              "      border-right-color: var(--fill-color);\n",
              "      border-top-color: var(--fill-color);\n",
              "    }\n",
              "    60% {\n",
              "      border-color: transparent;\n",
              "      border-right-color: var(--fill-color);\n",
              "    }\n",
              "    80% {\n",
              "      border-color: transparent;\n",
              "      border-right-color: var(--fill-color);\n",
              "      border-bottom-color: var(--fill-color);\n",
              "    }\n",
              "    90% {\n",
              "      border-color: transparent;\n",
              "      border-bottom-color: var(--fill-color);\n",
              "    }\n",
              "  }\n",
              "</style>\n",
              "\n",
              "      <script>\n",
              "        async function quickchart(key) {\n",
              "          const quickchartButtonEl =\n",
              "            document.querySelector('#' + key + ' button');\n",
              "          quickchartButtonEl.disabled = true;  // To prevent multiple clicks.\n",
              "          quickchartButtonEl.classList.add('colab-df-spinner');\n",
              "          try {\n",
              "            const charts = await google.colab.kernel.invokeFunction(\n",
              "                'suggestCharts', [key], {});\n",
              "          } catch (error) {\n",
              "            console.error('Error during call to suggestCharts:', error);\n",
              "          }\n",
              "          quickchartButtonEl.classList.remove('colab-df-spinner');\n",
              "          quickchartButtonEl.classList.add('colab-df-quickchart-complete');\n",
              "        }\n",
              "        (() => {\n",
              "          let quickchartButtonEl =\n",
              "            document.querySelector('#df-bdd0b824-9060-4d7a-9f25-39ee70ed1ed3 button');\n",
              "          quickchartButtonEl.style.display =\n",
              "            google.colab.kernel.accessAllowed ? 'block' : 'none';\n",
              "        })();\n",
              "      </script>\n",
              "    </div>\n",
              "\n",
              "    </div>\n",
              "  </div>\n"
            ],
            "application/vnd.google.colaboratory.intrinsic+json": {
              "type": "dataframe",
              "variable_name": "titles_df",
              "summary": "{\n  \"name\": \"titles_df\",\n  \"rows\": 9871,\n  \"fields\": [\n    {\n      \"column\": \"id\",\n      \"properties\": {\n        \"dtype\": \"string\",\n        \"num_unique_values\": 9868,\n        \"samples\": [\n          \"tm39982\",\n          \"tm191600\",\n          \"tm1016257\"\n        ],\n        \"semantic_type\": \"\",\n        \"description\": \"\"\n      }\n    },\n    {\n      \"column\": \"title\",\n      \"properties\": {\n        \"dtype\": \"string\",\n        \"num_unique_values\": 9737,\n        \"samples\": [\n          \"Bhoot Chaturdashi\",\n          \"The Elephant in the Living Room\",\n          \"Always Greener\"\n        ],\n        \"semantic_type\": \"\",\n        \"description\": \"\"\n      }\n    },\n    {\n      \"column\": \"type\",\n      \"properties\": {\n        \"dtype\": \"category\",\n        \"num_unique_values\": 2,\n        \"samples\": [\n          \"MOVIE\",\n          \"SHOW\"\n        ],\n        \"semantic_type\": \"\",\n        \"description\": \"\"\n      }\n    },\n    {\n      \"column\": \"description\",\n      \"properties\": {\n        \"dtype\": \"string\",\n        \"num_unique_values\": 9734,\n        \"samples\": [\n          \"When the head of a statue sacred to a village is stolen, a young martial artist goes to the big city and finds himself taking on the underworld to retrieve it.\",\n          \"When a half-beast mercenary teams up with a witch who is in search of a magical tome that can destroy the world, a grand adventure ensues.  Despite his hatred of witches, he enters an agreement that shewill make him human once she reaches her goal.\"\n        ],\n        \"semantic_type\": \"\",\n        \"description\": \"\"\n      }\n    },\n    {\n      \"column\": \"release_year\",\n      \"properties\": {\n        \"dtype\": \"number\",\n        \"std\": 25,\n        \"min\": 1912,\n        \"max\": 2022,\n        \"num_unique_values\": 110,\n        \"samples\": [\n          1992,\n          1938\n        ],\n        \"semantic_type\": \"\",\n        \"description\": \"\"\n      }\n    },\n    {\n      \"column\": \"age_certification\",\n      \"properties\": {\n        \"dtype\": \"category\",\n        \"num_unique_values\": 11,\n        \"samples\": [\n          \"TV-G\",\n          \"TV-PG\"\n        ],\n        \"semantic_type\": \"\",\n        \"description\": \"\"\n      }\n    },\n    {\n      \"column\": \"runtime\",\n      \"properties\": {\n        \"dtype\": \"number\",\n        \"std\": 33,\n        \"min\": 1,\n        \"max\": 549,\n        \"num_unique_values\": 207,\n        \"samples\": [\n          174,\n          70\n        ],\n        \"semantic_type\": \"\",\n        \"description\": \"\"\n      }\n    },\n    {\n      \"column\": \"genres\",\n      \"properties\": {\n        \"dtype\": \"category\",\n        \"num_unique_values\": 2028,\n        \"samples\": [\n          \"['war', 'drama', 'action']\",\n          \"['documentation', 'reality', 'european']\"\n        ],\n        \"semantic_type\": \"\",\n        \"description\": \"\"\n      }\n    },\n    {\n      \"column\": \"production_countries\",\n      \"properties\": {\n        \"dtype\": \"category\",\n        \"num_unique_values\": 497,\n        \"samples\": [\n          \"['SK', 'CZ', 'DE']\",\n          \"['ES', 'DE', 'IT', 'MC']\"\n        ],\n        \"semantic_type\": \"\",\n        \"description\": \"\"\n      }\n    },\n    {\n      \"column\": \"seasons\",\n      \"properties\": {\n        \"dtype\": \"number\",\n        \"std\": 4.148957721772518,\n        \"min\": 1.0,\n        \"max\": 51.0,\n        \"num_unique_values\": 32,\n        \"samples\": [\n          21.0,\n          7.0\n        ],\n        \"semantic_type\": \"\",\n        \"description\": \"\"\n      }\n    },\n    {\n      \"column\": \"imdb_id\",\n      \"properties\": {\n        \"dtype\": \"string\",\n        \"num_unique_values\": 9201,\n        \"samples\": [\n          \"tt5986716\",\n          \"tt1498567\"\n        ],\n        \"semantic_type\": \"\",\n        \"description\": \"\"\n      }\n    },\n    {\n      \"column\": \"imdb_score\",\n      \"properties\": {\n        \"dtype\": \"number\",\n        \"std\": 1.3438415684624783,\n        \"min\": 1.1,\n        \"max\": 9.9,\n        \"num_unique_values\": 86,\n        \"samples\": [\n          1.3,\n          8.6\n        ],\n        \"semantic_type\": \"\",\n        \"description\": \"\"\n      }\n    },\n    {\n      \"column\": \"imdb_votes\",\n      \"properties\": {\n        \"dtype\": \"number\",\n        \"std\": 45920.15190464956,\n        \"min\": 5.0,\n        \"max\": 1133692.0,\n        \"num_unique_values\": 3650,\n        \"samples\": [\n          23155.0,\n          95444.0\n        ],\n        \"semantic_type\": \"\",\n        \"description\": \"\"\n      }\n    },\n    {\n      \"column\": \"tmdb_popularity\",\n      \"properties\": {\n        \"dtype\": \"number\",\n        \"std\": 30.00409812190441,\n        \"min\": 1.1e-05,\n        \"max\": 1437.906,\n        \"num_unique_values\": 5325,\n        \"samples\": [\n          1.862,\n          22.778\n        ],\n        \"semantic_type\": \"\",\n        \"description\": \"\"\n      }\n    },\n    {\n      \"column\": \"tmdb_score\",\n      \"properties\": {\n        \"dtype\": \"number\",\n        \"std\": 1.517985696177201,\n        \"min\": 0.8,\n        \"max\": 10.0,\n        \"num_unique_values\": 89,\n        \"samples\": [\n          3.0,\n          1.0\n        ],\n        \"semantic_type\": \"\",\n        \"description\": \"\"\n      }\n    }\n  ]\n}"
            }
          },
          "metadata": {},
          "execution_count": 6
        }
      ]
    },
    {
      "cell_type": "code",
      "source": [
        "credits_df.head(2)"
      ],
      "metadata": {
        "colab": {
          "base_uri": "https://localhost:8080/",
          "height": 111
        },
        "id": "aOCOMbKuAtLx",
        "outputId": "5c08805b-fe1f-468f-ecbb-b8f8f38ceb87"
      },
      "execution_count": null,
      "outputs": [
        {
          "output_type": "execute_result",
          "data": {
            "text/plain": [
              "   person_id       id        name character   role\n",
              "0      59401  ts20945  Joe Besser       Joe  ACTOR\n",
              "1      31460  ts20945  Moe Howard       Moe  ACTOR"
            ],
            "text/html": [
              "\n",
              "  <div id=\"df-aa09aeff-3414-4ff4-bfea-6019324cf994\" class=\"colab-df-container\">\n",
              "    <div>\n",
              "<style scoped>\n",
              "    .dataframe tbody tr th:only-of-type {\n",
              "        vertical-align: middle;\n",
              "    }\n",
              "\n",
              "    .dataframe tbody tr th {\n",
              "        vertical-align: top;\n",
              "    }\n",
              "\n",
              "    .dataframe thead th {\n",
              "        text-align: right;\n",
              "    }\n",
              "</style>\n",
              "<table border=\"1\" class=\"dataframe\">\n",
              "  <thead>\n",
              "    <tr style=\"text-align: right;\">\n",
              "      <th></th>\n",
              "      <th>person_id</th>\n",
              "      <th>id</th>\n",
              "      <th>name</th>\n",
              "      <th>character</th>\n",
              "      <th>role</th>\n",
              "    </tr>\n",
              "  </thead>\n",
              "  <tbody>\n",
              "    <tr>\n",
              "      <th>0</th>\n",
              "      <td>59401</td>\n",
              "      <td>ts20945</td>\n",
              "      <td>Joe Besser</td>\n",
              "      <td>Joe</td>\n",
              "      <td>ACTOR</td>\n",
              "    </tr>\n",
              "    <tr>\n",
              "      <th>1</th>\n",
              "      <td>31460</td>\n",
              "      <td>ts20945</td>\n",
              "      <td>Moe Howard</td>\n",
              "      <td>Moe</td>\n",
              "      <td>ACTOR</td>\n",
              "    </tr>\n",
              "  </tbody>\n",
              "</table>\n",
              "</div>\n",
              "    <div class=\"colab-df-buttons\">\n",
              "\n",
              "  <div class=\"colab-df-container\">\n",
              "    <button class=\"colab-df-convert\" onclick=\"convertToInteractive('df-aa09aeff-3414-4ff4-bfea-6019324cf994')\"\n",
              "            title=\"Convert this dataframe to an interactive table.\"\n",
              "            style=\"display:none;\">\n",
              "\n",
              "  <svg xmlns=\"http://www.w3.org/2000/svg\" height=\"24px\" viewBox=\"0 -960 960 960\">\n",
              "    <path d=\"M120-120v-720h720v720H120Zm60-500h600v-160H180v160Zm220 220h160v-160H400v160Zm0 220h160v-160H400v160ZM180-400h160v-160H180v160Zm440 0h160v-160H620v160ZM180-180h160v-160H180v160Zm440 0h160v-160H620v160Z\"/>\n",
              "  </svg>\n",
              "    </button>\n",
              "\n",
              "  <style>\n",
              "    .colab-df-container {\n",
              "      display:flex;\n",
              "      gap: 12px;\n",
              "    }\n",
              "\n",
              "    .colab-df-convert {\n",
              "      background-color: #E8F0FE;\n",
              "      border: none;\n",
              "      border-radius: 50%;\n",
              "      cursor: pointer;\n",
              "      display: none;\n",
              "      fill: #1967D2;\n",
              "      height: 32px;\n",
              "      padding: 0 0 0 0;\n",
              "      width: 32px;\n",
              "    }\n",
              "\n",
              "    .colab-df-convert:hover {\n",
              "      background-color: #E2EBFA;\n",
              "      box-shadow: 0px 1px 2px rgba(60, 64, 67, 0.3), 0px 1px 3px 1px rgba(60, 64, 67, 0.15);\n",
              "      fill: #174EA6;\n",
              "    }\n",
              "\n",
              "    .colab-df-buttons div {\n",
              "      margin-bottom: 4px;\n",
              "    }\n",
              "\n",
              "    [theme=dark] .colab-df-convert {\n",
              "      background-color: #3B4455;\n",
              "      fill: #D2E3FC;\n",
              "    }\n",
              "\n",
              "    [theme=dark] .colab-df-convert:hover {\n",
              "      background-color: #434B5C;\n",
              "      box-shadow: 0px 1px 3px 1px rgba(0, 0, 0, 0.15);\n",
              "      filter: drop-shadow(0px 1px 2px rgba(0, 0, 0, 0.3));\n",
              "      fill: #FFFFFF;\n",
              "    }\n",
              "  </style>\n",
              "\n",
              "    <script>\n",
              "      const buttonEl =\n",
              "        document.querySelector('#df-aa09aeff-3414-4ff4-bfea-6019324cf994 button.colab-df-convert');\n",
              "      buttonEl.style.display =\n",
              "        google.colab.kernel.accessAllowed ? 'block' : 'none';\n",
              "\n",
              "      async function convertToInteractive(key) {\n",
              "        const element = document.querySelector('#df-aa09aeff-3414-4ff4-bfea-6019324cf994');\n",
              "        const dataTable =\n",
              "          await google.colab.kernel.invokeFunction('convertToInteractive',\n",
              "                                                    [key], {});\n",
              "        if (!dataTable) return;\n",
              "\n",
              "        const docLinkHtml = 'Like what you see? Visit the ' +\n",
              "          '<a target=\"_blank\" href=https://colab.research.google.com/notebooks/data_table.ipynb>data table notebook</a>'\n",
              "          + ' to learn more about interactive tables.';\n",
              "        element.innerHTML = '';\n",
              "        dataTable['output_type'] = 'display_data';\n",
              "        await google.colab.output.renderOutput(dataTable, element);\n",
              "        const docLink = document.createElement('div');\n",
              "        docLink.innerHTML = docLinkHtml;\n",
              "        element.appendChild(docLink);\n",
              "      }\n",
              "    </script>\n",
              "  </div>\n",
              "\n",
              "\n",
              "    <div id=\"df-7978331d-cb54-4b1f-adef-453829ea667e\">\n",
              "      <button class=\"colab-df-quickchart\" onclick=\"quickchart('df-7978331d-cb54-4b1f-adef-453829ea667e')\"\n",
              "                title=\"Suggest charts\"\n",
              "                style=\"display:none;\">\n",
              "\n",
              "<svg xmlns=\"http://www.w3.org/2000/svg\" height=\"24px\"viewBox=\"0 0 24 24\"\n",
              "     width=\"24px\">\n",
              "    <g>\n",
              "        <path d=\"M19 3H5c-1.1 0-2 .9-2 2v14c0 1.1.9 2 2 2h14c1.1 0 2-.9 2-2V5c0-1.1-.9-2-2-2zM9 17H7v-7h2v7zm4 0h-2V7h2v10zm4 0h-2v-4h2v4z\"/>\n",
              "    </g>\n",
              "</svg>\n",
              "      </button>\n",
              "\n",
              "<style>\n",
              "  .colab-df-quickchart {\n",
              "      --bg-color: #E8F0FE;\n",
              "      --fill-color: #1967D2;\n",
              "      --hover-bg-color: #E2EBFA;\n",
              "      --hover-fill-color: #174EA6;\n",
              "      --disabled-fill-color: #AAA;\n",
              "      --disabled-bg-color: #DDD;\n",
              "  }\n",
              "\n",
              "  [theme=dark] .colab-df-quickchart {\n",
              "      --bg-color: #3B4455;\n",
              "      --fill-color: #D2E3FC;\n",
              "      --hover-bg-color: #434B5C;\n",
              "      --hover-fill-color: #FFFFFF;\n",
              "      --disabled-bg-color: #3B4455;\n",
              "      --disabled-fill-color: #666;\n",
              "  }\n",
              "\n",
              "  .colab-df-quickchart {\n",
              "    background-color: var(--bg-color);\n",
              "    border: none;\n",
              "    border-radius: 50%;\n",
              "    cursor: pointer;\n",
              "    display: none;\n",
              "    fill: var(--fill-color);\n",
              "    height: 32px;\n",
              "    padding: 0;\n",
              "    width: 32px;\n",
              "  }\n",
              "\n",
              "  .colab-df-quickchart:hover {\n",
              "    background-color: var(--hover-bg-color);\n",
              "    box-shadow: 0 1px 2px rgba(60, 64, 67, 0.3), 0 1px 3px 1px rgba(60, 64, 67, 0.15);\n",
              "    fill: var(--button-hover-fill-color);\n",
              "  }\n",
              "\n",
              "  .colab-df-quickchart-complete:disabled,\n",
              "  .colab-df-quickchart-complete:disabled:hover {\n",
              "    background-color: var(--disabled-bg-color);\n",
              "    fill: var(--disabled-fill-color);\n",
              "    box-shadow: none;\n",
              "  }\n",
              "\n",
              "  .colab-df-spinner {\n",
              "    border: 2px solid var(--fill-color);\n",
              "    border-color: transparent;\n",
              "    border-bottom-color: var(--fill-color);\n",
              "    animation:\n",
              "      spin 1s steps(1) infinite;\n",
              "  }\n",
              "\n",
              "  @keyframes spin {\n",
              "    0% {\n",
              "      border-color: transparent;\n",
              "      border-bottom-color: var(--fill-color);\n",
              "      border-left-color: var(--fill-color);\n",
              "    }\n",
              "    20% {\n",
              "      border-color: transparent;\n",
              "      border-left-color: var(--fill-color);\n",
              "      border-top-color: var(--fill-color);\n",
              "    }\n",
              "    30% {\n",
              "      border-color: transparent;\n",
              "      border-left-color: var(--fill-color);\n",
              "      border-top-color: var(--fill-color);\n",
              "      border-right-color: var(--fill-color);\n",
              "    }\n",
              "    40% {\n",
              "      border-color: transparent;\n",
              "      border-right-color: var(--fill-color);\n",
              "      border-top-color: var(--fill-color);\n",
              "    }\n",
              "    60% {\n",
              "      border-color: transparent;\n",
              "      border-right-color: var(--fill-color);\n",
              "    }\n",
              "    80% {\n",
              "      border-color: transparent;\n",
              "      border-right-color: var(--fill-color);\n",
              "      border-bottom-color: var(--fill-color);\n",
              "    }\n",
              "    90% {\n",
              "      border-color: transparent;\n",
              "      border-bottom-color: var(--fill-color);\n",
              "    }\n",
              "  }\n",
              "</style>\n",
              "\n",
              "      <script>\n",
              "        async function quickchart(key) {\n",
              "          const quickchartButtonEl =\n",
              "            document.querySelector('#' + key + ' button');\n",
              "          quickchartButtonEl.disabled = true;  // To prevent multiple clicks.\n",
              "          quickchartButtonEl.classList.add('colab-df-spinner');\n",
              "          try {\n",
              "            const charts = await google.colab.kernel.invokeFunction(\n",
              "                'suggestCharts', [key], {});\n",
              "          } catch (error) {\n",
              "            console.error('Error during call to suggestCharts:', error);\n",
              "          }\n",
              "          quickchartButtonEl.classList.remove('colab-df-spinner');\n",
              "          quickchartButtonEl.classList.add('colab-df-quickchart-complete');\n",
              "        }\n",
              "        (() => {\n",
              "          let quickchartButtonEl =\n",
              "            document.querySelector('#df-7978331d-cb54-4b1f-adef-453829ea667e button');\n",
              "          quickchartButtonEl.style.display =\n",
              "            google.colab.kernel.accessAllowed ? 'block' : 'none';\n",
              "        })();\n",
              "      </script>\n",
              "    </div>\n",
              "\n",
              "    </div>\n",
              "  </div>\n"
            ],
            "application/vnd.google.colaboratory.intrinsic+json": {
              "type": "dataframe",
              "variable_name": "credits_df"
            }
          },
          "metadata": {},
          "execution_count": 7
        }
      ]
    },
    {
      "cell_type": "markdown",
      "source": [
        "### Dataset Rows & Columns count"
      ],
      "metadata": {
        "id": "7hBIi_osiCS2"
      }
    },
    {
      "cell_type": "code",
      "source": [
        "# Dataset Rows & Columns\n",
        "titles_df.shape"
      ],
      "metadata": {
        "id": "Kllu7SJgmLij",
        "colab": {
          "base_uri": "https://localhost:8080/"
        },
        "outputId": "de912bd5-30ae-4793-9890-1327aff74acd"
      },
      "execution_count": null,
      "outputs": [
        {
          "output_type": "execute_result",
          "data": {
            "text/plain": [
              "(9871, 15)"
            ]
          },
          "metadata": {},
          "execution_count": 8
        }
      ]
    },
    {
      "cell_type": "code",
      "source": [
        "credits_df.shape"
      ],
      "metadata": {
        "colab": {
          "base_uri": "https://localhost:8080/"
        },
        "id": "Fszq8IApA6v-",
        "outputId": "4302726b-64fd-499e-f4f1-a61563a971e6"
      },
      "execution_count": null,
      "outputs": [
        {
          "output_type": "execute_result",
          "data": {
            "text/plain": [
              "(124235, 5)"
            ]
          },
          "metadata": {},
          "execution_count": 9
        }
      ]
    },
    {
      "cell_type": "markdown",
      "source": [
        "### Dataset Information"
      ],
      "metadata": {
        "id": "JlHwYmJAmNHm"
      }
    },
    {
      "cell_type": "code",
      "source": [
        "# Dataset Info\n",
        "titles_df.info()"
      ],
      "metadata": {
        "id": "e9hRXRi6meOf",
        "colab": {
          "base_uri": "https://localhost:8080/"
        },
        "outputId": "32df607f-fc4a-47a3-ceb8-b713659c2bd1"
      },
      "execution_count": null,
      "outputs": [
        {
          "output_type": "stream",
          "name": "stdout",
          "text": [
            "<class 'pandas.core.frame.DataFrame'>\n",
            "RangeIndex: 9871 entries, 0 to 9870\n",
            "Data columns (total 15 columns):\n",
            " #   Column                Non-Null Count  Dtype  \n",
            "---  ------                --------------  -----  \n",
            " 0   id                    9871 non-null   object \n",
            " 1   title                 9871 non-null   object \n",
            " 2   type                  9871 non-null   object \n",
            " 3   description           9752 non-null   object \n",
            " 4   release_year          9871 non-null   int64  \n",
            " 5   age_certification     3384 non-null   object \n",
            " 6   runtime               9871 non-null   int64  \n",
            " 7   genres                9871 non-null   object \n",
            " 8   production_countries  9871 non-null   object \n",
            " 9   seasons               1357 non-null   float64\n",
            " 10  imdb_id               9204 non-null   object \n",
            " 11  imdb_score            8850 non-null   float64\n",
            " 12  imdb_votes            8840 non-null   float64\n",
            " 13  tmdb_popularity       9324 non-null   float64\n",
            " 14  tmdb_score            7789 non-null   float64\n",
            "dtypes: float64(5), int64(2), object(8)\n",
            "memory usage: 1.1+ MB\n"
          ]
        }
      ]
    },
    {
      "cell_type": "code",
      "source": [
        "credits_df.info()"
      ],
      "metadata": {
        "colab": {
          "base_uri": "https://localhost:8080/"
        },
        "id": "bd_xH450BO8Q",
        "outputId": "500044a6-0293-4185-be47-7c91b5a4d424"
      },
      "execution_count": null,
      "outputs": [
        {
          "output_type": "stream",
          "name": "stdout",
          "text": [
            "<class 'pandas.core.frame.DataFrame'>\n",
            "RangeIndex: 124235 entries, 0 to 124234\n",
            "Data columns (total 5 columns):\n",
            " #   Column     Non-Null Count   Dtype \n",
            "---  ------     --------------   ----- \n",
            " 0   person_id  124235 non-null  int64 \n",
            " 1   id         124235 non-null  object\n",
            " 2   name       124235 non-null  object\n",
            " 3   character  107948 non-null  object\n",
            " 4   role       124235 non-null  object\n",
            "dtypes: int64(1), object(4)\n",
            "memory usage: 4.7+ MB\n"
          ]
        }
      ]
    },
    {
      "cell_type": "markdown",
      "source": [
        "#### Duplicate Values"
      ],
      "metadata": {
        "id": "35m5QtbWiB9F"
      }
    },
    {
      "cell_type": "code",
      "source": [
        "# Dataset Duplicate Value Count\n",
        "len(titles_df[titles_df.duplicated()])"
      ],
      "metadata": {
        "id": "1sLdpKYkmox0",
        "colab": {
          "base_uri": "https://localhost:8080/"
        },
        "outputId": "aa2b2e7c-0bca-4a70-f3ca-acbf44335db4"
      },
      "execution_count": null,
      "outputs": [
        {
          "output_type": "execute_result",
          "data": {
            "text/plain": [
              "3"
            ]
          },
          "metadata": {},
          "execution_count": 12
        }
      ]
    },
    {
      "cell_type": "code",
      "source": [
        "len(credits_df[credits_df.duplicated()])"
      ],
      "metadata": {
        "colab": {
          "base_uri": "https://localhost:8080/"
        },
        "id": "3M7FiZjCB1Bc",
        "outputId": "d25120b0-5213-4b65-c5d0-1448a06fc6d8"
      },
      "execution_count": null,
      "outputs": [
        {
          "output_type": "execute_result",
          "data": {
            "text/plain": [
              "56"
            ]
          },
          "metadata": {},
          "execution_count": 13
        }
      ]
    },
    {
      "cell_type": "markdown",
      "source": [
        "#### Missing Values/Null Values"
      ],
      "metadata": {
        "id": "PoPl-ycgm1ru"
      }
    },
    {
      "cell_type": "code",
      "source": [
        "# Missing Values/Null Values Count\n",
        "print(titles_df.isnull().sum(),\"\\n\")\n",
        "print(credits_df.isnull().sum())"
      ],
      "metadata": {
        "id": "GgHWkxvamxVg",
        "colab": {
          "base_uri": "https://localhost:8080/"
        },
        "outputId": "f35ad7f2-d9d4-4f0b-e507-306d7da9bdd1"
      },
      "execution_count": null,
      "outputs": [
        {
          "output_type": "stream",
          "name": "stdout",
          "text": [
            "id                         0\n",
            "title                      0\n",
            "type                       0\n",
            "description              119\n",
            "release_year               0\n",
            "age_certification       6487\n",
            "runtime                    0\n",
            "genres                     0\n",
            "production_countries       0\n",
            "seasons                 8514\n",
            "imdb_id                  667\n",
            "imdb_score              1021\n",
            "imdb_votes              1031\n",
            "tmdb_popularity          547\n",
            "tmdb_score              2082\n",
            "dtype: int64 \n",
            "\n",
            "person_id        0\n",
            "id               0\n",
            "name             0\n",
            "character    16287\n",
            "role             0\n",
            "dtype: int64\n"
          ]
        }
      ]
    },
    {
      "cell_type": "code",
      "source": [
        "# Visualizing the missing values\n",
        "# Checking Null Value by plotting Heatmap\n",
        "sns.heatmap(titles_df.isnull(), cbar=False)"
      ],
      "metadata": {
        "id": "3q5wnI3om9sJ",
        "colab": {
          "base_uri": "https://localhost:8080/",
          "height": 586
        },
        "outputId": "22886cfe-89f9-4ede-d8e2-454777cd61c9"
      },
      "execution_count": null,
      "outputs": [
        {
          "output_type": "execute_result",
          "data": {
            "text/plain": [
              "<Axes: >"
            ]
          },
          "metadata": {},
          "execution_count": 15
        },
        {
          "output_type": "display_data",
          "data": {
            "text/plain": [
              "<Figure size 640x480 with 1 Axes>"
            ],
            "image/png": "[encoded data removed]"
          },
          "metadata": {}
        }
      ]
    },
    {
      "cell_type": "code",
      "source": [
        "sns.heatmap(credits_df.isnull(), cbar=False)"
      ],
      "metadata": {
        "colab": {
          "base_uri": "https://localhost:8080/",
          "height": 454
        },
        "id": "75cWSPtnDCyq",
        "outputId": "dbc47270-760d-4d09-a5e9-d68be8508f22"
      },
      "execution_count": null,
      "outputs": [
        {
          "output_type": "execute_result",
          "data": {
            "text/plain": [
              "<Axes: >"
            ]
          },
          "metadata": {},
          "execution_count": 16
        },
        {
          "output_type": "display_data",
          "data": {
            "text/plain": [
              "<Figure size 640x480 with 1 Axes>"
            ],
            "image/png": "[encoded data removed]"
          },
          "metadata": {}
        }
      ]
    },
    {
      "cell_type": "markdown",
      "source": [
        "### What did you know about your dataset?"
      ],
      "metadata": {
        "id": "H0kj-8xxnORC"
      }
    },
    {
      "cell_type": "markdown",
      "source": [
        "This data set was created to list all shows available on Amazon Prime streaming, and analyze the data to find interesting facts. This dataset has data available in the United States.\n",
        "This dataset has two files containing the titles (titles.csv) and the cast (credits.csv) for the title.\n",
        "This dataset contains +9k unique titles on Amazon Prime with 15 columns containing their information, including:\n",
        "id: The title ID on JustWatch.\n",
        "title: The name of the title.\n",
        "show_type: TV show or movie.\n",
        "description: A brief description.\n",
        "release_year: The release year.\n",
        "age_certification: The age certification.\n",
        "runtime: The length of the episode (SHOW) or movie.\n",
        "genres: A list of genres.\n",
        "production_countries: A list of countries that produced the title.\n",
        "seasons: Number of seasons if it's a SHOW.\n",
        "imdb_id: The title ID on IMDB.\n",
        "imdb_score: Score on IMDB.\n",
        "imdb_votes: Votes on IMDB.\n",
        "tmdb_popularity: Popularity on TMDB.\n",
        "tmdb_score: Score on TMDB.\n",
        "And over +124k credits of actors and directors on Amazon Prime titles with 5 columns containing their information:\n",
        "person_ID: The person ID on JustWatch.\n",
        "id: The title ID on JustWatch.\n",
        "name: The actor or director's name.\n",
        "character_name: The character name.\n",
        "role: ACTOR or DIRECTOR."
      ],
      "metadata": {
        "id": "gfoNAAC-nUe_"
      }
    },
    {
      "cell_type": "markdown",
      "source": [
        "## ***2. Understanding Your Variables***"
      ],
      "metadata": {
        "id": "nA9Y7ga8ng1Z"
      }
    },
    {
      "cell_type": "code",
      "source": [
        "# Dataset Columns\n",
        "titles_df.columns"
      ],
      "metadata": {
        "id": "n87BaXA_42-R",
        "colab": {
          "base_uri": "https://localhost:8080/"
        },
        "outputId": "c46519dd-569c-4dd2-e3b2-3d83c0d618b7"
      },
      "execution_count": null,
      "outputs": [
        {
          "output_type": "execute_result",
          "data": {
            "text/plain": [
              "Index(['id', 'title', 'type', 'description', 'release_year',\n",
              "       'age_certification', 'runtime', 'genres', 'production_countries',\n",
              "       'seasons', 'imdb_id', 'imdb_score', 'imdb_votes', 'tmdb_popularity',\n",
              "       'tmdb_score'],\n",
              "      dtype='object')"
            ]
          },
          "metadata": {},
          "execution_count": 25
        }
      ]
    },
    {
      "cell_type": "code",
      "source": [
        "credits_df.columns"
      ],
      "metadata": {
        "colab": {
          "base_uri": "https://localhost:8080/"
        },
        "id": "GaN1f422Qqad",
        "outputId": "94389ce0-9b82-4f03-a4c0-f4c9a38e1b91"
      },
      "execution_count": null,
      "outputs": [
        {
          "output_type": "execute_result",
          "data": {
            "text/plain": [
              "Index(['person_id', 'id', 'name', 'character', 'role'], dtype='object')"
            ]
          },
          "metadata": {},
          "execution_count": 27
        }
      ]
    },
    {
      "cell_type": "code",
      "source": [
        "# Dataset Describe\n",
        "titles_df.describe(include='all')"
      ],
      "metadata": {
        "id": "DnOaZdaE5Q5t",
        "colab": {
          "base_uri": "https://localhost:8080/",
          "height": 444
        },
        "outputId": "ccdc7b4d-b9e0-4091-8134-3a905488e335"
      },
      "execution_count": null,
      "outputs": [
        {
          "output_type": "execute_result",
          "data": {
            "text/plain": [
              "             id           title   type         description  release_year  \\\n",
              "count      9871            9871   9871                9752   9871.000000   \n",
              "unique     9868            9737      2                9734           NaN   \n",
              "top     tm89134  The Lost World  MOVIE  No overview found.           NaN   \n",
              "freq          2               3   8514                   5           NaN   \n",
              "mean        NaN             NaN    NaN                 NaN   2001.327221   \n",
              "std         NaN             NaN    NaN                 NaN     25.810071   \n",
              "min         NaN             NaN    NaN                 NaN   1912.000000   \n",
              "25%         NaN             NaN    NaN                 NaN   1995.500000   \n",
              "50%         NaN             NaN    NaN                 NaN   2014.000000   \n",
              "75%         NaN             NaN    NaN                 NaN   2018.000000   \n",
              "max         NaN             NaN    NaN                 NaN   2022.000000   \n",
              "\n",
              "       age_certification      runtime     genres production_countries  \\\n",
              "count               3384  9871.000000       9871                 9871   \n",
              "unique                11          NaN       2028                  497   \n",
              "top                    R          NaN  ['drama']               ['US']   \n",
              "freq                1249          NaN        908                 4810   \n",
              "mean                 NaN    85.973052        NaN                  NaN   \n",
              "std                  NaN    33.512466        NaN                  NaN   \n",
              "min                  NaN     1.000000        NaN                  NaN   \n",
              "25%                  NaN    65.000000        NaN                  NaN   \n",
              "50%                  NaN    89.000000        NaN                  NaN   \n",
              "75%                  NaN   102.000000        NaN                  NaN   \n",
              "max                  NaN   549.000000        NaN                  NaN   \n",
              "\n",
              "            seasons    imdb_id   imdb_score    imdb_votes  tmdb_popularity  \\\n",
              "count   1357.000000       9204  8850.000000  8.840000e+03      9324.000000   \n",
              "unique          NaN       9201          NaN           NaN              NaN   \n",
              "top             NaN  tt0033683          NaN           NaN              NaN   \n",
              "freq            NaN          2          NaN           NaN              NaN   \n",
              "mean       2.791452        NaN     5.976395  8.533614e+03         6.910204   \n",
              "std        4.148958        NaN     1.343842  4.592015e+04        30.004098   \n",
              "min        1.000000        NaN     1.100000  5.000000e+00         0.000011   \n",
              "25%        1.000000        NaN     5.100000  1.170000e+02         1.232000   \n",
              "50%        1.000000        NaN     6.100000  4.625000e+02         2.536000   \n",
              "75%        3.000000        NaN     6.900000  2.236250e+03         5.634000   \n",
              "max       51.000000        NaN     9.900000  1.133692e+06      1437.906000   \n",
              "\n",
              "         tmdb_score  \n",
              "count   7789.000000  \n",
              "unique          NaN  \n",
              "top             NaN  \n",
              "freq            NaN  \n",
              "mean       5.984247  \n",
              "std        1.517986  \n",
              "min        0.800000  \n",
              "25%        5.100000  \n",
              "50%        6.000000  \n",
              "75%        6.900000  \n",
              "max       10.000000  "
            ],
            "text/html": [
              "\n",
              "  <div id=\"df-5ce5d7c1-31c9-465d-9729-b992f392c455\" class=\"colab-df-container\">\n",
              "    <div>\n",
              "<style scoped>\n",
              "    .dataframe tbody tr th:only-of-type {\n",
              "        vertical-align: middle;\n",
              "    }\n",
              "\n",
              "    .dataframe tbody tr th {\n",
              "        vertical-align: top;\n",
              "    }\n",
              "\n",
              "    .dataframe thead th {\n",
              "        text-align: right;\n",
              "    }\n",
              "</style>\n",
              "<table border=\"1\" class=\"dataframe\">\n",
              "  <thead>\n",
              "    <tr style=\"text-align: right;\">\n",
              "      <th></th>\n",
              "      <th>id</th>\n",
              "      <th>title</th>\n",
              "      <th>type</th>\n",
              "      <th>description</th>\n",
              "      <th>release_year</th>\n",
              "      <th>age_certification</th>\n",
              "      <th>runtime</th>\n",
              "      <th>genres</th>\n",
              "      <th>production_countries</th>\n",
              "      <th>seasons</th>\n",
              "      <th>imdb_id</th>\n",
              "      <th>imdb_score</th>\n",
              "      <th>imdb_votes</th>\n",
              "      <th>tmdb_popularity</th>\n",
              "      <th>tmdb_score</th>\n",
              "    </tr>\n",
              "  </thead>\n",
              "  <tbody>\n",
              "    <tr>\n",
              "      <th>count</th>\n",
              "      <td>9871</td>\n",
              "      <td>9871</td>\n",
              "      <td>9871</td>\n",
              "      <td>9752</td>\n",
              "      <td>9871.000000</td>\n",
              "      <td>3384</td>\n",
              "      <td>9871.000000</td>\n",
              "      <td>9871</td>\n",
              "      <td>9871</td>\n",
              "      <td>1357.000000</td>\n",
              "      <td>9204</td>\n",
              "      <td>8850.000000</td>\n",
              "      <td>8.840000e+03</td>\n",
              "      <td>9324.000000</td>\n",
              "      <td>7789.000000</td>\n",
              "    </tr>\n",
              "    <tr>\n",
              "      <th>unique</th>\n",
              "      <td>9868</td>\n",
              "      <td>9737</td>\n",
              "      <td>2</td>\n",
              "      <td>9734</td>\n",
              "      <td>NaN</td>\n",
              "      <td>11</td>\n",
              "      <td>NaN</td>\n",
              "      <td>2028</td>\n",
              "      <td>497</td>\n",
              "      <td>NaN</td>\n",
              "      <td>9201</td>\n",
              "      <td>NaN</td>\n",
              "      <td>NaN</td>\n",
              "      <td>NaN</td>\n",
              "      <td>NaN</td>\n",
              "    </tr>\n",
              "    <tr>\n",
              "      <th>top</th>\n",
              "      <td>tm89134</td>\n",
              "      <td>The Lost World</td>\n",
              "      <td>MOVIE</td>\n",
              "      <td>No overview found.</td>\n",
              "      <td>NaN</td>\n",
              "      <td>R</td>\n",
              "      <td>NaN</td>\n",
              "      <td>['drama']</td>\n",
              "      <td>['US']</td>\n",
              "      <td>NaN</td>\n",
              "      <td>tt0033683</td>\n",
              "      <td>NaN</td>\n",
              "      <td>NaN</td>\n",
              "      <td>NaN</td>\n",
              "      <td>NaN</td>\n",
              "    </tr>\n",
              "    <tr>\n",
              "      <th>freq</th>\n",
              "      <td>2</td>\n",
              "      <td>3</td>\n",
              "      <td>8514</td>\n",
              "      <td>5</td>\n",
              "      <td>NaN</td>\n",
              "      <td>1249</td>\n",
              "      <td>NaN</td>\n",
              "      <td>908</td>\n",
              "      <td>4810</td>\n",
              "      <td>NaN</td>\n",
              "      <td>2</td>\n",
              "      <td>NaN</td>\n",
              "      <td>NaN</td>\n",
              "      <td>NaN</td>\n",
              "      <td>NaN</td>\n",
              "    </tr>\n",
              "    <tr>\n",
              "      <th>mean</th>\n",
              "      <td>NaN</td>\n",
              "      <td>NaN</td>\n",
              "      <td>NaN</td>\n",
              "      <td>NaN</td>\n",
              "      <td>2001.327221</td>\n",
              "      <td>NaN</td>\n",
              "      <td>85.973052</td>\n",
              "      <td>NaN</td>\n",
              "      <td>NaN</td>\n",
              "      <td>2.791452</td>\n",
              "      <td>NaN</td>\n",
              "      <td>5.976395</td>\n",
              "      <td>8.533614e+03</td>\n",
              "      <td>6.910204</td>\n",
              "      <td>5.984247</td>\n",
              "    </tr>\n",
              "    <tr>\n",
              "      <th>std</th>\n",
              "      <td>NaN</td>\n",
              "      <td>NaN</td>\n",
              "      <td>NaN</td>\n",
              "      <td>NaN</td>\n",
              "      <td>25.810071</td>\n",
              "      <td>NaN</td>\n",
              "      <td>33.512466</td>\n",
              "      <td>NaN</td>\n",
              "      <td>NaN</td>\n",
              "      <td>4.148958</td>\n",
              "      <td>NaN</td>\n",
              "      <td>1.343842</td>\n",
              "      <td>4.592015e+04</td>\n",
              "      <td>30.004098</td>\n",
              "      <td>1.517986</td>\n",
              "    </tr>\n",
              "    <tr>\n",
              "      <th>min</th>\n",
              "      <td>NaN</td>\n",
              "      <td>NaN</td>\n",
              "      <td>NaN</td>\n",
              "      <td>NaN</td>\n",
              "      <td>1912.000000</td>\n",
              "      <td>NaN</td>\n",
              "      <td>1.000000</td>\n",
              "      <td>NaN</td>\n",
              "      <td>NaN</td>\n",
              "      <td>1.000000</td>\n",
              "      <td>NaN</td>\n",
              "      <td>1.100000</td>\n",
              "      <td>5.000000e+00</td>\n",
              "      <td>0.000011</td>\n",
              "      <td>0.800000</td>\n",
              "    </tr>\n",
              "    <tr>\n",
              "      <th>25%</th>\n",
              "      <td>NaN</td>\n",
              "      <td>NaN</td>\n",
              "      <td>NaN</td>\n",
              "      <td>NaN</td>\n",
              "      <td>1995.500000</td>\n",
              "      <td>NaN</td>\n",
              "      <td>65.000000</td>\n",
              "      <td>NaN</td>\n",
              "      <td>NaN</td>\n",
              "      <td>1.000000</td>\n",
              "      <td>NaN</td>\n",
              "      <td>5.100000</td>\n",
              "      <td>1.170000e+02</td>\n",
              "      <td>1.232000</td>\n",
              "      <td>5.100000</td>\n",
              "    </tr>\n",
              "    <tr>\n",
              "      <th>50%</th>\n",
              "      <td>NaN</td>\n",
              "      <td>NaN</td>\n",
              "      <td>NaN</td>\n",
              "      <td>NaN</td>\n",
              "      <td>2014.000000</td>\n",
              "      <td>NaN</td>\n",
              "      <td>89.000000</td>\n",
              "      <td>NaN</td>\n",
              "      <td>NaN</td>\n",
              "      <td>1.000000</td>\n",
              "      <td>NaN</td>\n",
              "      <td>6.100000</td>\n",
              "      <td>4.625000e+02</td>\n",
              "      <td>2.536000</td>\n",
              "      <td>6.000000</td>\n",
              "    </tr>\n",
              "    <tr>\n",
              "      <th>75%</th>\n",
              "      <td>NaN</td>\n",
              "      <td>NaN</td>\n",
              "      <td>NaN</td>\n",
              "      <td>NaN</td>\n",
              "      <td>2018.000000</td>\n",
              "      <td>NaN</td>\n",
              "      <td>102.000000</td>\n",
              "      <td>NaN</td>\n",
              "      <td>NaN</td>\n",
              "      <td>3.000000</td>\n",
              "      <td>NaN</td>\n",
              "      <td>6.900000</td>\n",
              "      <td>2.236250e+03</td>\n",
              "      <td>5.634000</td>\n",
              "      <td>6.900000</td>\n",
              "    </tr>\n",
              "    <tr>\n",
              "      <th>max</th>\n",
              "      <td>NaN</td>\n",
              "      <td>NaN</td>\n",
              "      <td>NaN</td>\n",
              "      <td>NaN</td>\n",
              "      <td>2022.000000</td>\n",
              "      <td>NaN</td>\n",
              "      <td>549.000000</td>\n",
              "      <td>NaN</td>\n",
              "      <td>NaN</td>\n",
              "      <td>51.000000</td>\n",
              "      <td>NaN</td>\n",
              "      <td>9.900000</td>\n",
              "      <td>1.133692e+06</td>\n",
              "      <td>1437.906000</td>\n",
              "      <td>10.000000</td>\n",
              "    </tr>\n",
              "  </tbody>\n",
              "</table>\n",
              "</div>\n",
              "    <div class=\"colab-df-buttons\">\n",
              "\n",
              "  <div class=\"colab-df-container\">\n",
              "    <button class=\"colab-df-convert\" onclick=\"convertToInteractive('df-5ce5d7c1-31c9-465d-9729-b992f392c455')\"\n",
              "            title=\"Convert this dataframe to an interactive table.\"\n",
              "            style=\"display:none;\">\n",
              "\n",
              "  <svg xmlns=\"http://www.w3.org/2000/svg\" height=\"24px\" viewBox=\"0 -960 960 960\">\n",
              "    <path d=\"M120-120v-720h720v720H120Zm60-500h600v-160H180v160Zm220 220h160v-160H400v160Zm0 220h160v-160H400v160ZM180-400h160v-160H180v160Zm440 0h160v-160H620v160ZM180-180h160v-160H180v160Zm440 0h160v-160H620v160Z\"/>\n",
              "  </svg>\n",
              "    </button>\n",
              "\n",
              "  <style>\n",
              "    .colab-df-container {\n",
              "      display:flex;\n",
              "      gap: 12px;\n",
              "    }\n",
              "\n",
              "    .colab-df-convert {\n",
              "      background-color: #E8F0FE;\n",
              "      border: none;\n",
              "      border-radius: 50%;\n",
              "      cursor: pointer;\n",
              "      display: none;\n",
              "      fill: #1967D2;\n",
              "      height: 32px;\n",
              "      padding: 0 0 0 0;\n",
              "      width: 32px;\n",
              "    }\n",
              "\n",
              "    .colab-df-convert:hover {\n",
              "      background-color: #E2EBFA;\n",
              "      box-shadow: 0px 1px 2px rgba(60, 64, 67, 0.3), 0px 1px 3px 1px rgba(60, 64, 67, 0.15);\n",
              "      fill: #174EA6;\n",
              "    }\n",
              "\n",
              "    .colab-df-buttons div {\n",
              "      margin-bottom: 4px;\n",
              "    }\n",
              "\n",
              "    [theme=dark] .colab-df-convert {\n",
              "      background-color: #3B4455;\n",
              "      fill: #D2E3FC;\n",
              "    }\n",
              "\n",
              "    [theme=dark] .colab-df-convert:hover {\n",
              "      background-color: #434B5C;\n",
              "      box-shadow: 0px 1px 3px 1px rgba(0, 0, 0, 0.15);\n",
              "      filter: drop-shadow(0px 1px 2px rgba(0, 0, 0, 0.3));\n",
              "      fill: #FFFFFF;\n",
              "    }\n",
              "  </style>\n",
              "\n",
              "    <script>\n",
              "      const buttonEl =\n",
              "        document.querySelector('#df-5ce5d7c1-31c9-465d-9729-b992f392c455 button.colab-df-convert');\n",
              "      buttonEl.style.display =\n",
              "        google.colab.kernel.accessAllowed ? 'block' : 'none';\n",
              "\n",
              "      async function convertToInteractive(key) {\n",
              "        const element = document.querySelector('#df-5ce5d7c1-31c9-465d-9729-b992f392c455');\n",
              "        const dataTable =\n",
              "          await google.colab.kernel.invokeFunction('convertToInteractive',\n",
              "                                                    [key], {});\n",
              "        if (!dataTable) return;\n",
              "\n",
              "        const docLinkHtml = 'Like what you see? Visit the ' +\n",
              "          '<a target=\"_blank\" href=https://colab.research.google.com/notebooks/data_table.ipynb>data table notebook</a>'\n",
              "          + ' to learn more about interactive tables.';\n",
              "        element.innerHTML = '';\n",
              "        dataTable['output_type'] = 'display_data';\n",
              "        await google.colab.output.renderOutput(dataTable, element);\n",
              "        const docLink = document.createElement('div');\n",
              "        docLink.innerHTML = docLinkHtml;\n",
              "        element.appendChild(docLink);\n",
              "      }\n",
              "    </script>\n",
              "  </div>\n",
              "\n",
              "\n",
              "    <div id=\"df-8f5309c7-a808-4d32-bfc4-a7591e9802c5\">\n",
              "      <button class=\"colab-df-quickchart\" onclick=\"quickchart('df-8f5309c7-a808-4d32-bfc4-a7591e9802c5')\"\n",
              "                title=\"Suggest charts\"\n",
              "                style=\"display:none;\">\n",
              "\n",
              "<svg xmlns=\"http://www.w3.org/2000/svg\" height=\"24px\"viewBox=\"0 0 24 24\"\n",
              "     width=\"24px\">\n",
              "    <g>\n",
              "        <path d=\"M19 3H5c-1.1 0-2 .9-2 2v14c0 1.1.9 2 2 2h14c1.1 0 2-.9 2-2V5c0-1.1-.9-2-2-2zM9 17H7v-7h2v7zm4 0h-2V7h2v10zm4 0h-2v-4h2v4z\"/>\n",
              "    </g>\n",
              "</svg>\n",
              "      </button>\n",
              "\n",
              "<style>\n",
              "  .colab-df-quickchart {\n",
              "      --bg-color: #E8F0FE;\n",
              "      --fill-color: #1967D2;\n",
              "      --hover-bg-color: #E2EBFA;\n",
              "      --hover-fill-color: #174EA6;\n",
              "      --disabled-fill-color: #AAA;\n",
              "      --disabled-bg-color: #DDD;\n",
              "  }\n",
              "\n",
              "  [theme=dark] .colab-df-quickchart {\n",
              "      --bg-color: #3B4455;\n",
              "      --fill-color: #D2E3FC;\n",
              "      --hover-bg-color: #434B5C;\n",
              "      --hover-fill-color: #FFFFFF;\n",
              "      --disabled-bg-color: #3B4455;\n",
              "      --disabled-fill-color: #666;\n",
              "  }\n",
              "\n",
              "  .colab-df-quickchart {\n",
              "    background-color: var(--bg-color);\n",
              "    border: none;\n",
              "    border-radius: 50%;\n",
              "    cursor: pointer;\n",
              "    display: none;\n",
              "    fill: var(--fill-color);\n",
              "    height: 32px;\n",
              "    padding: 0;\n",
              "    width: 32px;\n",
              "  }\n",
              "\n",
              "  .colab-df-quickchart:hover {\n",
              "    background-color: var(--hover-bg-color);\n",
              "    box-shadow: 0 1px 2px rgba(60, 64, 67, 0.3), 0 1px 3px 1px rgba(60, 64, 67, 0.15);\n",
              "    fill: var(--button-hover-fill-color);\n",
              "  }\n",
              "\n",
              "  .colab-df-quickchart-complete:disabled,\n",
              "  .colab-df-quickchart-complete:disabled:hover {\n",
              "    background-color: var(--disabled-bg-color);\n",
              "    fill: var(--disabled-fill-color);\n",
              "    box-shadow: none;\n",
              "  }\n",
              "\n",
              "  .colab-df-spinner {\n",
              "    border: 2px solid var(--fill-color);\n",
              "    border-color: transparent;\n",
              "    border-bottom-color: var(--fill-color);\n",
              "    animation:\n",
              "      spin 1s steps(1) infinite;\n",
              "  }\n",
              "\n",
              "  @keyframes spin {\n",
              "    0% {\n",
              "      border-color: transparent;\n",
              "      border-bottom-color: var(--fill-color);\n",
              "      border-left-color: var(--fill-color);\n",
              "    }\n",
              "    20% {\n",
              "      border-color: transparent;\n",
              "      border-left-color: var(--fill-color);\n",
              "      border-top-color: var(--fill-color);\n",
              "    }\n",
              "    30% {\n",
              "      border-color: transparent;\n",
              "      border-left-color: var(--fill-color);\n",
              "      border-top-color: var(--fill-color);\n",
              "      border-right-color: var(--fill-color);\n",
              "    }\n",
              "    40% {\n",
              "      border-color: transparent;\n",
              "      border-right-color: var(--fill-color);\n",
              "      border-top-color: var(--fill-color);\n",
              "    }\n",
              "    60% {\n",
              "      border-color: transparent;\n",
              "      border-right-color: var(--fill-color);\n",
              "    }\n",
              "    80% {\n",
              "      border-color: transparent;\n",
              "      border-right-color: var(--fill-color);\n",
              "      border-bottom-color: var(--fill-color);\n",
              "    }\n",
              "    90% {\n",
              "      border-color: transparent;\n",
              "      border-bottom-color: var(--fill-color);\n",
              "    }\n",
              "  }\n",
              "</style>\n",
              "\n",
              "      <script>\n",
              "        async function quickchart(key) {\n",
              "          const quickchartButtonEl =\n",
              "            document.querySelector('#' + key + ' button');\n",
              "          quickchartButtonEl.disabled = true;  // To prevent multiple clicks.\n",
              "          quickchartButtonEl.classList.add('colab-df-spinner');\n",
              "          try {\n",
              "            const charts = await google.colab.kernel.invokeFunction(\n",
              "                'suggestCharts', [key], {});\n",
              "          } catch (error) {\n",
              "            console.error('Error during call to suggestCharts:', error);\n",
              "          }\n",
              "          quickchartButtonEl.classList.remove('colab-df-spinner');\n",
              "          quickchartButtonEl.classList.add('colab-df-quickchart-complete');\n",
              "        }\n",
              "        (() => {\n",
              "          let quickchartButtonEl =\n",
              "            document.querySelector('#df-8f5309c7-a808-4d32-bfc4-a7591e9802c5 button');\n",
              "          quickchartButtonEl.style.display =\n",
              "            google.colab.kernel.accessAllowed ? 'block' : 'none';\n",
              "        })();\n",
              "      </script>\n",
              "    </div>\n",
              "\n",
              "    </div>\n",
              "  </div>\n"
            ],
            "application/vnd.google.colaboratory.intrinsic+json": {
              "type": "dataframe",
              "summary": "{\n  \"name\": \"titles_df\",\n  \"rows\": 11,\n  \"fields\": [\n    {\n      \"column\": \"id\",\n      \"properties\": {\n        \"dtype\": \"category\",\n        \"num_unique_values\": 4,\n        \"samples\": [\n          9868,\n          \"2\",\n          \"9871\"\n        ],\n        \"semantic_type\": \"\",\n        \"description\": \"\"\n      }\n    },\n    {\n      \"column\": \"title\",\n      \"properties\": {\n        \"dtype\": \"category\",\n        \"num_unique_values\": 4,\n        \"samples\": [\n          9737,\n          \"3\",\n          \"9871\"\n        ],\n        \"semantic_type\": \"\",\n        \"description\": \"\"\n      }\n    },\n    {\n      \"column\": \"type\",\n      \"properties\": {\n        \"dtype\": \"category\",\n        \"num_unique_values\": 4,\n        \"samples\": [\n          2,\n          \"8514\",\n          \"9871\"\n        ],\n        \"semantic_type\": \"\",\n        \"description\": \"\"\n      }\n    },\n    {\n      \"column\": \"description\",\n      \"properties\": {\n        \"dtype\": \"category\",\n        \"num_unique_values\": 4,\n        \"samples\": [\n          9734,\n          \"5\",\n          \"9752\"\n        ],\n        \"semantic_type\": \"\",\n        \"description\": \"\"\n      }\n    },\n    {\n      \"column\": \"release_year\",\n      \"properties\": {\n        \"dtype\": \"number\",\n        \"std\": 2965.6827264021795,\n        \"min\": 25.810071382496382,\n        \"max\": 9871.0,\n        \"num_unique_values\": 8,\n        \"samples\": [\n          2001.327221152872,\n          2014.0,\n          9871.0\n        ],\n        \"semantic_type\": \"\",\n        \"description\": \"\"\n      }\n    },\n    {\n      \"column\": \"age_certification\",\n      \"properties\": {\n        \"dtype\": \"category\",\n        \"num_unique_values\": 4,\n        \"samples\": [\n          11,\n          \"1249\",\n          \"3384\"\n        ],\n        \"semantic_type\": \"\",\n        \"description\": \"\"\n      }\n    },\n    {\n      \"column\": \"runtime\",\n      \"properties\": {\n        \"dtype\": \"number\",\n        \"std\": 3447.5373199456394,\n        \"min\": 1.0,\n        \"max\": 9871.0,\n        \"num_unique_values\": 8,\n        \"samples\": [\n          85.97305237564584,\n          89.0,\n          9871.0\n        ],\n        \"semantic_type\": \"\",\n        \"description\": \"\"\n      }\n    },\n    {\n      \"column\": \"genres\",\n      \"properties\": {\n        \"dtype\": \"category\",\n        \"num_unique_values\": 4,\n        \"samples\": [\n          2028,\n          \"908\",\n          \"9871\"\n        ],\n        \"semantic_type\": \"\",\n        \"description\": \"\"\n      }\n    },\n    {\n      \"column\": \"production_countries\",\n      \"properties\": {\n        \"dtype\": \"category\",\n        \"num_unique_values\": 4,\n        \"samples\": [\n          497,\n          \"4810\",\n          \"9871\"\n        ],\n        \"semantic_type\": \"\",\n        \"description\": \"\"\n      }\n    },\n    {\n      \"column\": \"seasons\",\n      \"properties\": {\n        \"dtype\": \"number\",\n        \"std\": 476.8502385671298,\n        \"min\": 1.0,\n        \"max\": 1357.0,\n        \"num_unique_values\": 6,\n        \"samples\": [\n          1357.0,\n          2.791451731761238,\n          51.0\n        ],\n        \"semantic_type\": \"\",\n        \"description\": \"\"\n      }\n    },\n    {\n      \"column\": \"imdb_id\",\n      \"properties\": {\n        \"dtype\": \"category\",\n        \"num_unique_values\": 4,\n        \"samples\": [\n          9201,\n          \"2\",\n          \"9204\"\n        ],\n        \"semantic_type\": \"\",\n        \"description\": \"\"\n      }\n    },\n    {\n      \"column\": \"imdb_score\",\n      \"properties\": {\n        \"dtype\": \"number\",\n        \"std\": 3127.1093337031734,\n        \"min\": 1.1,\n        \"max\": 8850.0,\n        \"num_unique_values\": 8,\n        \"samples\": [\n          5.97639548022599,\n          6.1,\n          8850.0\n        ],\n        \"semantic_type\": \"\",\n        \"description\": \"\"\n      }\n    },\n    {\n      \"column\": \"imdb_votes\",\n      \"properties\": {\n        \"dtype\": \"number\",\n        \"std\": 397776.04041444726,\n        \"min\": 5.0,\n        \"max\": 1133692.0,\n        \"num_unique_values\": 8,\n        \"samples\": [\n          8533.614253393665,\n          462.5,\n          8840.0\n        ],\n        \"semantic_type\": \"\",\n        \"description\": \"\"\n      }\n    },\n    {\n      \"column\": \"tmdb_popularity\",\n      \"properties\": {\n        \"dtype\": \"number\",\n        \"std\": 3260.2219174111783,\n        \"min\": 1.1e-05,\n        \"max\": 9324.0,\n        \"num_unique_values\": 8,\n        \"samples\": [\n          6.910204418343475,\n          2.536,\n          9324.0\n        ],\n        \"semantic_type\": \"\",\n        \"description\": \"\"\n      }\n    },\n    {\n      \"column\": \"tmdb_score\",\n      \"properties\": {\n        \"dtype\": \"number\",\n        \"std\": 2751.995379884347,\n        \"min\": 0.8,\n        \"max\": 7789.0,\n        \"num_unique_values\": 8,\n        \"samples\": [\n          5.984247015021184,\n          6.0,\n          7789.0\n        ],\n        \"semantic_type\": \"\",\n        \"description\": \"\"\n      }\n    }\n  ]\n}"
            }
          },
          "metadata": {},
          "execution_count": 28
        }
      ]
    },
    {
      "cell_type": "code",
      "source": [
        "credits_df.describe(include='all')"
      ],
      "metadata": {
        "colab": {
          "base_uri": "https://localhost:8080/",
          "height": 390
        },
        "id": "9GRnLkhBQ7ha",
        "outputId": "e313edac-83d0-4732-9d21-f76ec918a00d"
      },
      "execution_count": null,
      "outputs": [
        {
          "output_type": "execute_result",
          "data": {
            "text/plain": [
              "           person_id        id                  name character    role\n",
              "count   1.242350e+05    124235                124235    107948  124235\n",
              "unique           NaN      8861                 79758     71097       2\n",
              "top              NaN  tm458582  George 'Gabby' Hayes   Himself   ACTOR\n",
              "freq             NaN       137                    49      1540  115846\n",
              "mean    4.064737e+05       NaN                   NaN       NaN     NaN\n",
              "std     5.616296e+05       NaN                   NaN       NaN     NaN\n",
              "min     1.000000e+00       NaN                   NaN       NaN     NaN\n",
              "25%     3.899200e+04       NaN                   NaN       NaN     NaN\n",
              "50%     1.339490e+05       NaN                   NaN       NaN     NaN\n",
              "75%     5.712560e+05       NaN                   NaN       NaN     NaN\n",
              "max     2.371153e+06       NaN                   NaN       NaN     NaN"
            ],
            "text/html": [
              "\n",
              "  <div id=\"df-ab735d4f-4be6-426a-b007-75b7e07c6113\" class=\"colab-df-container\">\n",
              "    <div>\n",
              "<style scoped>\n",
              "    .dataframe tbody tr th:only-of-type {\n",
              "        vertical-align: middle;\n",
              "    }\n",
              "\n",
              "    .dataframe tbody tr th {\n",
              "        vertical-align: top;\n",
              "    }\n",
              "\n",
              "    .dataframe thead th {\n",
              "        text-align: right;\n",
              "    }\n",
              "</style>\n",
              "<table border=\"1\" class=\"dataframe\">\n",
              "  <thead>\n",
              "    <tr style=\"text-align: right;\">\n",
              "      <th></th>\n",
              "      <th>person_id</th>\n",
              "      <th>id</th>\n",
              "      <th>name</th>\n",
              "      <th>character</th>\n",
              "      <th>role</th>\n",
              "    </tr>\n",
              "  </thead>\n",
              "  <tbody>\n",
              "    <tr>\n",
              "      <th>count</th>\n",
              "      <td>1.242350e+05</td>\n",
              "      <td>124235</td>\n",
              "      <td>124235</td>\n",
              "      <td>107948</td>\n",
              "      <td>124235</td>\n",
              "    </tr>\n",
              "    <tr>\n",
              "      <th>unique</th>\n",
              "      <td>NaN</td>\n",
              "      <td>8861</td>\n",
              "      <td>79758</td>\n",
              "      <td>71097</td>\n",
              "      <td>2</td>\n",
              "    </tr>\n",
              "    <tr>\n",
              "      <th>top</th>\n",
              "      <td>NaN</td>\n",
              "      <td>tm458582</td>\n",
              "      <td>George 'Gabby' Hayes</td>\n",
              "      <td>Himself</td>\n",
              "      <td>ACTOR</td>\n",
              "    </tr>\n",
              "    <tr>\n",
              "      <th>freq</th>\n",
              "      <td>NaN</td>\n",
              "      <td>137</td>\n",
              "      <td>49</td>\n",
              "      <td>1540</td>\n",
              "      <td>115846</td>\n",
              "    </tr>\n",
              "    <tr>\n",
              "      <th>mean</th>\n",
              "      <td>4.064737e+05</td>\n",
              "      <td>NaN</td>\n",
              "      <td>NaN</td>\n",
              "      <td>NaN</td>\n",
              "      <td>NaN</td>\n",
              "    </tr>\n",
              "    <tr>\n",
              "      <th>std</th>\n",
              "      <td>5.616296e+05</td>\n",
              "      <td>NaN</td>\n",
              "      <td>NaN</td>\n",
              "      <td>NaN</td>\n",
              "      <td>NaN</td>\n",
              "    </tr>\n",
              "    <tr>\n",
              "      <th>min</th>\n",
              "      <td>1.000000e+00</td>\n",
              "      <td>NaN</td>\n",
              "      <td>NaN</td>\n",
              "      <td>NaN</td>\n",
              "      <td>NaN</td>\n",
              "    </tr>\n",
              "    <tr>\n",
              "      <th>25%</th>\n",
              "      <td>3.899200e+04</td>\n",
              "      <td>NaN</td>\n",
              "      <td>NaN</td>\n",
              "      <td>NaN</td>\n",
              "      <td>NaN</td>\n",
              "    </tr>\n",
              "    <tr>\n",
              "      <th>50%</th>\n",
              "      <td>1.339490e+05</td>\n",
              "      <td>NaN</td>\n",
              "      <td>NaN</td>\n",
              "      <td>NaN</td>\n",
              "      <td>NaN</td>\n",
              "    </tr>\n",
              "    <tr>\n",
              "      <th>75%</th>\n",
              "      <td>5.712560e+05</td>\n",
              "      <td>NaN</td>\n",
              "      <td>NaN</td>\n",
              "      <td>NaN</td>\n",
              "      <td>NaN</td>\n",
              "    </tr>\n",
              "    <tr>\n",
              "      <th>max</th>\n",
              "      <td>2.371153e+06</td>\n",
              "      <td>NaN</td>\n",
              "      <td>NaN</td>\n",
              "      <td>NaN</td>\n",
              "      <td>NaN</td>\n",
              "    </tr>\n",
              "  </tbody>\n",
              "</table>\n",
              "</div>\n",
              "    <div class=\"colab-df-buttons\">\n",
              "\n",
              "  <div class=\"colab-df-container\">\n",
              "    <button class=\"colab-df-convert\" onclick=\"convertToInteractive('df-ab735d4f-4be6-426a-b007-75b7e07c6113')\"\n",
              "            title=\"Convert this dataframe to an interactive table.\"\n",
              "            style=\"display:none;\">\n",
              "\n",
              "  <svg xmlns=\"http://www.w3.org/2000/svg\" height=\"24px\" viewBox=\"0 -960 960 960\">\n",
              "    <path d=\"M120-120v-720h720v720H120Zm60-500h600v-160H180v160Zm220 220h160v-160H400v160Zm0 220h160v-160H400v160ZM180-400h160v-160H180v160Zm440 0h160v-160H620v160ZM180-180h160v-160H180v160Zm440 0h160v-160H620v160Z\"/>\n",
              "  </svg>\n",
              "    </button>\n",
              "\n",
              "  <style>\n",
              "    .colab-df-container {\n",
              "      display:flex;\n",
              "      gap: 12px;\n",
              "    }\n",
              "\n",
              "    .colab-df-convert {\n",
              "      background-color: #E8F0FE;\n",
              "      border: none;\n",
              "      border-radius: 50%;\n",
              "      cursor: pointer;\n",
              "      display: none;\n",
              "      fill: #1967D2;\n",
              "      height: 32px;\n",
              "      padding: 0 0 0 0;\n",
              "      width: 32px;\n",
              "    }\n",
              "\n",
              "    .colab-df-convert:hover {\n",
              "      background-color: #E2EBFA;\n",
              "      box-shadow: 0px 1px 2px rgba(60, 64, 67, 0.3), 0px 1px 3px 1px rgba(60, 64, 67, 0.15);\n",
              "      fill: #174EA6;\n",
              "    }\n",
              "\n",
              "    .colab-df-buttons div {\n",
              "      margin-bottom: 4px;\n",
              "    }\n",
              "\n",
              "    [theme=dark] .colab-df-convert {\n",
              "      background-color: #3B4455;\n",
              "      fill: #D2E3FC;\n",
              "    }\n",
              "\n",
              "    [theme=dark] .colab-df-convert:hover {\n",
              "      background-color: #434B5C;\n",
              "      box-shadow: 0px 1px 3px 1px rgba(0, 0, 0, 0.15);\n",
              "      filter: drop-shadow(0px 1px 2px rgba(0, 0, 0, 0.3));\n",
              "      fill: #FFFFFF;\n",
              "    }\n",
              "  </style>\n",
              "\n",
              "    <script>\n",
              "      const buttonEl =\n",
              "        document.querySelector('#df-ab735d4f-4be6-426a-b007-75b7e07c6113 button.colab-df-convert');\n",
              "      buttonEl.style.display =\n",
              "        google.colab.kernel.accessAllowed ? 'block' : 'none';\n",
              "\n",
              "      async function convertToInteractive(key) {\n",
              "        const element = document.querySelector('#df-ab735d4f-4be6-426a-b007-75b7e07c6113');\n",
              "        const dataTable =\n",
              "          await google.colab.kernel.invokeFunction('convertToInteractive',\n",
              "                                                    [key], {});\n",
              "        if (!dataTable) return;\n",
              "\n",
              "        const docLinkHtml = 'Like what you see? Visit the ' +\n",
              "          '<a target=\"_blank\" href=https://colab.research.google.com/notebooks/data_table.ipynb>data table notebook</a>'\n",
              "          + ' to learn more about interactive tables.';\n",
              "        element.innerHTML = '';\n",
              "        dataTable['output_type'] = 'display_data';\n",
              "        await google.colab.output.renderOutput(dataTable, element);\n",
              "        const docLink = document.createElement('div');\n",
              "        docLink.innerHTML = docLinkHtml;\n",
              "        element.appendChild(docLink);\n",
              "      }\n",
              "    </script>\n",
              "  </div>\n",
              "\n",
              "\n",
              "    <div id=\"df-8df46ae6-cf31-4cfa-9f2f-7ee1cfeffe37\">\n",
              "      <button class=\"colab-df-quickchart\" onclick=\"quickchart('df-8df46ae6-cf31-4cfa-9f2f-7ee1cfeffe37')\"\n",
              "                title=\"Suggest charts\"\n",
              "                style=\"display:none;\">\n",
              "\n",
              "<svg xmlns=\"http://www.w3.org/2000/svg\" height=\"24px\"viewBox=\"0 0 24 24\"\n",
              "     width=\"24px\">\n",
              "    <g>\n",
              "        <path d=\"M19 3H5c-1.1 0-2 .9-2 2v14c0 1.1.9 2 2 2h14c1.1 0 2-.9 2-2V5c0-1.1-.9-2-2-2zM9 17H7v-7h2v7zm4 0h-2V7h2v10zm4 0h-2v-4h2v4z\"/>\n",
              "    </g>\n",
              "</svg>\n",
              "      </button>\n",
              "\n",
              "<style>\n",
              "  .colab-df-quickchart {\n",
              "      --bg-color: #E8F0FE;\n",
              "      --fill-color: #1967D2;\n",
              "      --hover-bg-color: #E2EBFA;\n",
              "      --hover-fill-color: #174EA6;\n",
              "      --disabled-fill-color: #AAA;\n",
              "      --disabled-bg-color: #DDD;\n",
              "  }\n",
              "\n",
              "  [theme=dark] .colab-df-quickchart {\n",
              "      --bg-color: #3B4455;\n",
              "      --fill-color: #D2E3FC;\n",
              "      --hover-bg-color: #434B5C;\n",
              "      --hover-fill-color: #FFFFFF;\n",
              "      --disabled-bg-color: #3B4455;\n",
              "      --disabled-fill-color: #666;\n",
              "  }\n",
              "\n",
              "  .colab-df-quickchart {\n",
              "    background-color: var(--bg-color);\n",
              "    border: none;\n",
              "    border-radius: 50%;\n",
              "    cursor: pointer;\n",
              "    display: none;\n",
              "    fill: var(--fill-color);\n",
              "    height: 32px;\n",
              "    padding: 0;\n",
              "    width: 32px;\n",
              "  }\n",
              "\n",
              "  .colab-df-quickchart:hover {\n",
              "    background-color: var(--hover-bg-color);\n",
              "    box-shadow: 0 1px 2px rgba(60, 64, 67, 0.3), 0 1px 3px 1px rgba(60, 64, 67, 0.15);\n",
              "    fill: var(--button-hover-fill-color);\n",
              "  }\n",
              "\n",
              "  .colab-df-quickchart-complete:disabled,\n",
              "  .colab-df-quickchart-complete:disabled:hover {\n",
              "    background-color: var(--disabled-bg-color);\n",
              "    fill: var(--disabled-fill-color);\n",
              "    box-shadow: none;\n",
              "  }\n",
              "\n",
              "  .colab-df-spinner {\n",
              "    border: 2px solid var(--fill-color);\n",
              "    border-color: transparent;\n",
              "    border-bottom-color: var(--fill-color);\n",
              "    animation:\n",
              "      spin 1s steps(1) infinite;\n",
              "  }\n",
              "\n",
              "  @keyframes spin {\n",
              "    0% {\n",
              "      border-color: transparent;\n",
              "      border-bottom-color: var(--fill-color);\n",
              "      border-left-color: var(--fill-color);\n",
              "    }\n",
              "    20% {\n",
              "      border-color: transparent;\n",
              "      border-left-color: var(--fill-color);\n",
              "      border-top-color: var(--fill-color);\n",
              "    }\n",
              "    30% {\n",
              "      border-color: transparent;\n",
              "      border-left-color: var(--fill-color);\n",
              "      border-top-color: var(--fill-color);\n",
              "      border-right-color: var(--fill-color);\n",
              "    }\n",
              "    40% {\n",
              "      border-color: transparent;\n",
              "      border-right-color: var(--fill-color);\n",
              "      border-top-color: var(--fill-color);\n",
              "    }\n",
              "    60% {\n",
              "      border-color: transparent;\n",
              "      border-right-color: var(--fill-color);\n",
              "    }\n",
              "    80% {\n",
              "      border-color: transparent;\n",
              "      border-right-color: var(--fill-color);\n",
              "      border-bottom-color: var(--fill-color);\n",
              "    }\n",
              "    90% {\n",
              "      border-color: transparent;\n",
              "      border-bottom-color: var(--fill-color);\n",
              "    }\n",
              "  }\n",
              "</style>\n",
              "\n",
              "      <script>\n",
              "        async function quickchart(key) {\n",
              "          const quickchartButtonEl =\n",
              "            document.querySelector('#' + key + ' button');\n",
              "          quickchartButtonEl.disabled = true;  // To prevent multiple clicks.\n",
              "          quickchartButtonEl.classList.add('colab-df-spinner');\n",
              "          try {\n",
              "            const charts = await google.colab.kernel.invokeFunction(\n",
              "                'suggestCharts', [key], {});\n",
              "          } catch (error) {\n",
              "            console.error('Error during call to suggestCharts:', error);\n",
              "          }\n",
              "          quickchartButtonEl.classList.remove('colab-df-spinner');\n",
              "          quickchartButtonEl.classList.add('colab-df-quickchart-complete');\n",
              "        }\n",
              "        (() => {\n",
              "          let quickchartButtonEl =\n",
              "            document.querySelector('#df-8df46ae6-cf31-4cfa-9f2f-7ee1cfeffe37 button');\n",
              "          quickchartButtonEl.style.display =\n",
              "            google.colab.kernel.accessAllowed ? 'block' : 'none';\n",
              "        })();\n",
              "      </script>\n",
              "    </div>\n",
              "\n",
              "    </div>\n",
              "  </div>\n"
            ],
            "application/vnd.google.colaboratory.intrinsic+json": {
              "type": "dataframe",
              "summary": "{\n  \"name\": \"credits_df\",\n  \"rows\": 11,\n  \"fields\": [\n    {\n      \"column\": \"person_id\",\n      \"properties\": {\n        \"dtype\": \"number\",\n        \"std\": 779300.4684304042,\n        \"min\": 1.0,\n        \"max\": 2371153.0,\n        \"num_unique_values\": 8,\n        \"samples\": [\n          406473.6839859943,\n          133949.0,\n          124235.0\n        ],\n        \"semantic_type\": \"\",\n        \"description\": \"\"\n      }\n    },\n    {\n      \"column\": \"id\",\n      \"properties\": {\n        \"dtype\": \"category\",\n        \"num_unique_values\": 4,\n        \"samples\": [\n          8861,\n          \"137\",\n          \"124235\"\n        ],\n        \"semantic_type\": \"\",\n        \"description\": \"\"\n      }\n    },\n    {\n      \"column\": \"name\",\n      \"properties\": {\n        \"dtype\": \"category\",\n        \"num_unique_values\": 4,\n        \"samples\": [\n          79758,\n          \"49\",\n          \"124235\"\n        ],\n        \"semantic_type\": \"\",\n        \"description\": \"\"\n      }\n    },\n    {\n      \"column\": \"character\",\n      \"properties\": {\n        \"dtype\": \"category\",\n        \"num_unique_values\": 4,\n        \"samples\": [\n          71097,\n          \"1540\",\n          \"107948\"\n        ],\n        \"semantic_type\": \"\",\n        \"description\": \"\"\n      }\n    },\n    {\n      \"column\": \"role\",\n      \"properties\": {\n        \"dtype\": \"category\",\n        \"num_unique_values\": 4,\n        \"samples\": [\n          2,\n          \"115846\",\n          \"124235\"\n        ],\n        \"semantic_type\": \"\",\n        \"description\": \"\"\n      }\n    }\n  ]\n}"
            }
          },
          "metadata": {},
          "execution_count": 19
        }
      ]
    },
    {
      "cell_type": "markdown",
      "source": [
        "###**Variables Description**"
      ],
      "metadata": {
        "id": "_PoiaO8VpDn1"
      }
    },
    {
      "cell_type": "markdown",
      "source": [
        "#### ***Titles Data Variables***\n",
        "\n",
        "These variables are typically found in the titles.csv file, providing details about each movie or TV show.\n",
        "\n",
        "**id:** A unique identifier for each movie or TV show. This ID can be used to link to other datasets (e.g., credits.csv).\n",
        "\n",
        "**title:** The official title of the movie or TV show.\n",
        "\n",
        "**type:** The content type, indicating whether the entry is a 'MOVIE' or a 'SHOW'.\n",
        "\n",
        "**description:** A brief summary or synopsis of the movie or TV show.\n",
        "\n",
        "**release_year:** The year in which the content was originally released.\n",
        "\n",
        "**age_certification:** The age rating or certification for the content (e.g., 'G', 'PG', 'PG-13', 'R', 'TV-MA', etc.), indicating its suitability for different age groups.\n",
        "\n",
        "**runtime:**The running time of the content in minutes. For TV shows, this might represent the average episode runtime.\n",
        "\n",
        "**genres:** A list of genres associated with the content (e.g., 'action', 'comedy', 'drama', 'sci-fi'). This often appears as a string representation of a list that needs parsing.\n",
        "\n",
        "production_countries: A list of countries where the content was produced. This often appears as a string representation of a list that needs parsing.\n",
        "\n",
        "seasons: For TV shows, the number of seasons available. This will likely be null/empty for movies.\n",
        "\n",
        "**imdb_id:** The unique identifier for the content on IMDb (Internet Movie Database).\n",
        "\n",
        "**imdb_score:** The average user rating for the content on IMDb, typically on a scale of 1 to 10.\n",
        "\n",
        "**imdb_votes:** The total number of votes or ratings received by the content on IMDb, indicating its popularity and engagement.\n",
        "\n",
        "**tmdb_popularity:** A numeric score representing the popularity of the content on The Movie Database (TMDB), calculated based on various factors like views, ratings, and watchlist additions.\n",
        "\n",
        "**tmdb_score:** The average user rating for the content on TMDB.\n",
        "\n",
        "\n",
        "***Credits Data Variables***\n",
        "\n",
        "These variables are typically found in the credits.csv file, providing details about the cast and crew for each title.\n",
        "\n",
        "**person_id:** A unique identifier for each individual person (actor or director).\n",
        "\n",
        "**id:** The unique identifier of the movie or TV show, linking back to the titles dataset.\n",
        "\n",
        "**name:** The name of the person (actor or director).\n",
        "\n",
        "**character:** For actors, the name of the character they played in the content. This will be null/empty for directors.\n",
        "\n",
        "**role:** The role of the person in the production, typically 'ACTOR' or 'DIRECTOR'."
      ],
      "metadata": {
        "id": "Vg-ewLvapHYZ"
      }
    },
    {
      "cell_type": "markdown",
      "source": [
        "### Check Unique Values for each variable."
      ],
      "metadata": {
        "id": "u3PMJOP6ngxN"
      }
    },
    {
      "cell_type": "code",
      "source": [
        "# Check Unique Values for each variable.\n",
        "for i in titles_df.columns.tolist():\n",
        "  print(\"No. of unique values in \",i,\"is\",titles_df[i].nunique(),\".\")"
      ],
      "metadata": {
        "id": "zms12Yq5n-jE",
        "colab": {
          "base_uri": "https://localhost:8080/"
        },
        "outputId": "cba7355f-6e68-4003-afab-6971ff1a47b2"
      },
      "execution_count": null,
      "outputs": [
        {
          "output_type": "stream",
          "name": "stdout",
          "text": [
            "No. of unique values in  id is 9868 .\n",
            "No. of unique values in  title is 9737 .\n",
            "No. of unique values in  type is 2 .\n",
            "No. of unique values in  description is 9734 .\n",
            "No. of unique values in  release_year is 110 .\n",
            "No. of unique values in  age_certification is 11 .\n",
            "No. of unique values in  runtime is 207 .\n",
            "No. of unique values in  genres is 2028 .\n",
            "No. of unique values in  production_countries is 497 .\n",
            "No. of unique values in  seasons is 32 .\n",
            "No. of unique values in  imdb_id is 9201 .\n",
            "No. of unique values in  imdb_score is 86 .\n",
            "No. of unique values in  imdb_votes is 3650 .\n",
            "No. of unique values in  tmdb_popularity is 5325 .\n",
            "No. of unique values in  tmdb_score is 89 .\n"
          ]
        }
      ]
    },
    {
      "cell_type": "code",
      "source": [
        "for i in credits_df.columns.tolist():\n",
        "  print(\"No. of unique values in \",i,\"is\",credits_df[i].nunique(),\".\")"
      ],
      "metadata": {
        "colab": {
          "base_uri": "https://localhost:8080/"
        },
        "id": "PO8NlwVKlwA9",
        "outputId": "5d843aab-45c1-47d7-9214-14d955854d52"
      },
      "execution_count": null,
      "outputs": [
        {
          "output_type": "stream",
          "name": "stdout",
          "text": [
            "No. of unique values in  person_id is 80508 .\n",
            "No. of unique values in  id is 8861 .\n",
            "No. of unique values in  name is 79758 .\n",
            "No. of unique values in  character is 71097 .\n",
            "No. of unique values in  role is 2 .\n"
          ]
        }
      ]
    },
    {
      "cell_type": "markdown",
      "source": [
        "## 3. ***Data Wrangling***"
      ],
      "metadata": {
        "id": "dauF4eBmngu3"
      }
    },
    {
      "cell_type": "markdown",
      "source": [
        "### Data Wrangling Code"
      ],
      "metadata": {
        "id": "bKJF3rekwFvQ"
      }
    },
    {
      "cell_type": "code",
      "source": [
        "# Write your code to make your dataset analysis ready.\n",
        "# Merge the two dataframes on the 'id' column\n",
        "dfm = pd.merge(titles_df, credits_df, on='id', how='outer')"
      ],
      "metadata": {
        "id": "yeggamVDprXs"
      },
      "execution_count": null,
      "outputs": []
    },
    {
      "cell_type": "code",
      "source": [
        "dfm.head(2)"
      ],
      "metadata": {
        "colab": {
          "base_uri": "https://localhost:8080/",
          "height": 267
        },
        "id": "iNJ1Lh_aqDLA",
        "outputId": "b1f13908-59c1-4d8d-abcb-a8aa0ffb2280"
      },
      "execution_count": null,
      "outputs": [
        {
          "output_type": "execute_result",
          "data": {
            "text/plain": [
              "         id            title   type  \\\n",
              "0  tm100001  The Lucky Texan  MOVIE   \n",
              "1  tm100001  The Lucky Texan  MOVIE   \n",
              "\n",
              "                                         description  release_year  \\\n",
              "0  Jerry Mason, a young Texan, and Jake Benson, a...          1934   \n",
              "1  Jerry Mason, a young Texan, and Jake Benson, a...          1934   \n",
              "\n",
              "  age_certification  runtime                            genres  \\\n",
              "0               NaN       61  ['western', 'action', 'romance']   \n",
              "1               NaN       61  ['western', 'action', 'romance']   \n",
              "\n",
              "  production_countries  seasons    imdb_id  imdb_score  imdb_votes  \\\n",
              "0               ['US']      NaN  tt0025440         5.6      1213.0   \n",
              "1               ['US']      NaN  tt0025440         5.6      1213.0   \n",
              "\n",
              "   tmdb_popularity  tmdb_score  person_id             name     character  \\\n",
              "0            4.079         4.7    25629.0       John Wayne   Jerry Mason   \n",
              "1            4.079         4.7   578138.0  Barbara Sheldon  Betty Benson   \n",
              "\n",
              "    role  \n",
              "0  ACTOR  \n",
              "1  ACTOR  "
            ],
            "text/html": [
              "\n",
              "  <div id=\"df-30cbdbb4-729d-47c5-8af7-22d2191e59b0\" class=\"colab-df-container\">\n",
              "    <div>\n",
              "<style scoped>\n",
              "    .dataframe tbody tr th:only-of-type {\n",
              "        vertical-align: middle;\n",
              "    }\n",
              "\n",
              "    .dataframe tbody tr th {\n",
              "        vertical-align: top;\n",
              "    }\n",
              "\n",
              "    .dataframe thead th {\n",
              "        text-align: right;\n",
              "    }\n",
              "</style>\n",
              "<table border=\"1\" class=\"dataframe\">\n",
              "  <thead>\n",
              "    <tr style=\"text-align: right;\">\n",
              "      <th></th>\n",
              "      <th>id</th>\n",
              "      <th>title</th>\n",
              "      <th>type</th>\n",
              "      <th>description</th>\n",
              "      <th>release_year</th>\n",
              "      <th>age_certification</th>\n",
              "      <th>runtime</th>\n",
              "      <th>genres</th>\n",
              "      <th>production_countries</th>\n",
              "      <th>seasons</th>\n",
              "      <th>imdb_id</th>\n",
              "      <th>imdb_score</th>\n",
              "      <th>imdb_votes</th>\n",
              "      <th>tmdb_popularity</th>\n",
              "      <th>tmdb_score</th>\n",
              "      <th>person_id</th>\n",
              "      <th>name</th>\n",
              "      <th>character</th>\n",
              "      <th>role</th>\n",
              "    </tr>\n",
              "  </thead>\n",
              "  <tbody>\n",
              "    <tr>\n",
              "      <th>0</th>\n",
              "      <td>tm100001</td>\n",
              "      <td>The Lucky Texan</td>\n",
              "      <td>MOVIE</td>\n",
              "      <td>Jerry Mason, a young Texan, and Jake Benson, a...</td>\n",
              "      <td>1934</td>\n",
              "      <td>NaN</td>\n",
              "      <td>61</td>\n",
              "      <td>['western', 'action', 'romance']</td>\n",
              "      <td>['US']</td>\n",
              "      <td>NaN</td>\n",
              "      <td>tt0025440</td>\n",
              "      <td>5.6</td>\n",
              "      <td>1213.0</td>\n",
              "      <td>4.079</td>\n",
              "      <td>4.7</td>\n",
              "      <td>25629.0</td>\n",
              "      <td>John Wayne</td>\n",
              "      <td>Jerry Mason</td>\n",
              "      <td>ACTOR</td>\n",
              "    </tr>\n",
              "    <tr>\n",
              "      <th>1</th>\n",
              "      <td>tm100001</td>\n",
              "      <td>The Lucky Texan</td>\n",
              "      <td>MOVIE</td>\n",
              "      <td>Jerry Mason, a young Texan, and Jake Benson, a...</td>\n",
              "      <td>1934</td>\n",
              "      <td>NaN</td>\n",
              "      <td>61</td>\n",
              "      <td>['western', 'action', 'romance']</td>\n",
              "      <td>['US']</td>\n",
              "      <td>NaN</td>\n",
              "      <td>tt0025440</td>\n",
              "      <td>5.6</td>\n",
              "      <td>1213.0</td>\n",
              "      <td>4.079</td>\n",
              "      <td>4.7</td>\n",
              "      <td>578138.0</td>\n",
              "      <td>Barbara Sheldon</td>\n",
              "      <td>Betty Benson</td>\n",
              "      <td>ACTOR</td>\n",
              "    </tr>\n",
              "  </tbody>\n",
              "</table>\n",
              "</div>\n",
              "    <div class=\"colab-df-buttons\">\n",
              "\n",
              "  <div class=\"colab-df-container\">\n",
              "    <button class=\"colab-df-convert\" onclick=\"convertToInteractive('df-30cbdbb4-729d-47c5-8af7-22d2191e59b0')\"\n",
              "            title=\"Convert this dataframe to an interactive table.\"\n",
              "            style=\"display:none;\">\n",
              "\n",
              "  <svg xmlns=\"http://www.w3.org/2000/svg\" height=\"24px\" viewBox=\"0 -960 960 960\">\n",
              "    <path d=\"M120-120v-720h720v720H120Zm60-500h600v-160H180v160Zm220 220h160v-160H400v160Zm0 220h160v-160H400v160ZM180-400h160v-160H180v160Zm440 0h160v-160H620v160ZM180-180h160v-160H180v160Zm440 0h160v-160H620v160Z\"/>\n",
              "  </svg>\n",
              "    </button>\n",
              "\n",
              "  <style>\n",
              "    .colab-df-container {\n",
              "      display:flex;\n",
              "      gap: 12px;\n",
              "    }\n",
              "\n",
              "    .colab-df-convert {\n",
              "      background-color: #E8F0FE;\n",
              "      border: none;\n",
              "      border-radius: 50%;\n",
              "      cursor: pointer;\n",
              "      display: none;\n",
              "      fill: #1967D2;\n",
              "      height: 32px;\n",
              "      padding: 0 0 0 0;\n",
              "      width: 32px;\n",
              "    }\n",
              "\n",
              "    .colab-df-convert:hover {\n",
              "      background-color: #E2EBFA;\n",
              "      box-shadow: 0px 1px 2px rgba(60, 64, 67, 0.3), 0px 1px 3px 1px rgba(60, 64, 67, 0.15);\n",
              "      fill: #174EA6;\n",
              "    }\n",
              "\n",
              "    .colab-df-buttons div {\n",
              "      margin-bottom: 4px;\n",
              "    }\n",
              "\n",
              "    [theme=dark] .colab-df-convert {\n",
              "      background-color: #3B4455;\n",
              "      fill: #D2E3FC;\n",
              "    }\n",
              "\n",
              "    [theme=dark] .colab-df-convert:hover {\n",
              "      background-color: #434B5C;\n",
              "      box-shadow: 0px 1px 3px 1px rgba(0, 0, 0, 0.15);\n",
              "      filter: drop-shadow(0px 1px 2px rgba(0, 0, 0, 0.3));\n",
              "      fill: #FFFFFF;\n",
              "    }\n",
              "  </style>\n",
              "\n",
              "    <script>\n",
              "      const buttonEl =\n",
              "        document.querySelector('#df-30cbdbb4-729d-47c5-8af7-22d2191e59b0 button.colab-df-convert');\n",
              "      buttonEl.style.display =\n",
              "        google.colab.kernel.accessAllowed ? 'block' : 'none';\n",
              "\n",
              "      async function convertToInteractive(key) {\n",
              "        const element = document.querySelector('#df-30cbdbb4-729d-47c5-8af7-22d2191e59b0');\n",
              "        const dataTable =\n",
              "          await google.colab.kernel.invokeFunction('convertToInteractive',\n",
              "                                                    [key], {});\n",
              "        if (!dataTable) return;\n",
              "\n",
              "        const docLinkHtml = 'Like what you see? Visit the ' +\n",
              "          '<a target=\"_blank\" href=https://colab.research.google.com/notebooks/data_table.ipynb>data table notebook</a>'\n",
              "          + ' to learn more about interactive tables.';\n",
              "        element.innerHTML = '';\n",
              "        dataTable['output_type'] = 'display_data';\n",
              "        await google.colab.output.renderOutput(dataTable, element);\n",
              "        const docLink = document.createElement('div');\n",
              "        docLink.innerHTML = docLinkHtml;\n",
              "        element.appendChild(docLink);\n",
              "      }\n",
              "    </script>\n",
              "  </div>\n",
              "\n",
              "\n",
              "    <div id=\"df-4ff909b7-5cd6-48ae-b431-df788751355c\">\n",
              "      <button class=\"colab-df-quickchart\" onclick=\"quickchart('df-4ff909b7-5cd6-48ae-b431-df788751355c')\"\n",
              "                title=\"Suggest charts\"\n",
              "                style=\"display:none;\">\n",
              "\n",
              "<svg xmlns=\"http://www.w3.org/2000/svg\" height=\"24px\"viewBox=\"0 0 24 24\"\n",
              "     width=\"24px\">\n",
              "    <g>\n",
              "        <path d=\"M19 3H5c-1.1 0-2 .9-2 2v14c0 1.1.9 2 2 2h14c1.1 0 2-.9 2-2V5c0-1.1-.9-2-2-2zM9 17H7v-7h2v7zm4 0h-2V7h2v10zm4 0h-2v-4h2v4z\"/>\n",
              "    </g>\n",
              "</svg>\n",
              "      </button>\n",
              "\n",
              "<style>\n",
              "  .colab-df-quickchart {\n",
              "      --bg-color: #E8F0FE;\n",
              "      --fill-color: #1967D2;\n",
              "      --hover-bg-color: #E2EBFA;\n",
              "      --hover-fill-color: #174EA6;\n",
              "      --disabled-fill-color: #AAA;\n",
              "      --disabled-bg-color: #DDD;\n",
              "  }\n",
              "\n",
              "  [theme=dark] .colab-df-quickchart {\n",
              "      --bg-color: #3B4455;\n",
              "      --fill-color: #D2E3FC;\n",
              "      --hover-bg-color: #434B5C;\n",
              "      --hover-fill-color: #FFFFFF;\n",
              "      --disabled-bg-color: #3B4455;\n",
              "      --disabled-fill-color: #666;\n",
              "  }\n",
              "\n",
              "  .colab-df-quickchart {\n",
              "    background-color: var(--bg-color);\n",
              "    border: none;\n",
              "    border-radius: 50%;\n",
              "    cursor: pointer;\n",
              "    display: none;\n",
              "    fill: var(--fill-color);\n",
              "    height: 32px;\n",
              "    padding: 0;\n",
              "    width: 32px;\n",
              "  }\n",
              "\n",
              "  .colab-df-quickchart:hover {\n",
              "    background-color: var(--hover-bg-color);\n",
              "    box-shadow: 0 1px 2px rgba(60, 64, 67, 0.3), 0 1px 3px 1px rgba(60, 64, 67, 0.15);\n",
              "    fill: var(--button-hover-fill-color);\n",
              "  }\n",
              "\n",
              "  .colab-df-quickchart-complete:disabled,\n",
              "  .colab-df-quickchart-complete:disabled:hover {\n",
              "    background-color: var(--disabled-bg-color);\n",
              "    fill: var(--disabled-fill-color);\n",
              "    box-shadow: none;\n",
              "  }\n",
              "\n",
              "  .colab-df-spinner {\n",
              "    border: 2px solid var(--fill-color);\n",
              "    border-color: transparent;\n",
              "    border-bottom-color: var(--fill-color);\n",
              "    animation:\n",
              "      spin 1s steps(1) infinite;\n",
              "  }\n",
              "\n",
              "  @keyframes spin {\n",
              "    0% {\n",
              "      border-color: transparent;\n",
              "      border-bottom-color: var(--fill-color);\n",
              "      border-left-color: var(--fill-color);\n",
              "    }\n",
              "    20% {\n",
              "      border-color: transparent;\n",
              "      border-left-color: var(--fill-color);\n",
              "      border-top-color: var(--fill-color);\n",
              "    }\n",
              "    30% {\n",
              "      border-color: transparent;\n",
              "      border-left-color: var(--fill-color);\n",
              "      border-top-color: var(--fill-color);\n",
              "      border-right-color: var(--fill-color);\n",
              "    }\n",
              "    40% {\n",
              "      border-color: transparent;\n",
              "      border-right-color: var(--fill-color);\n",
              "      border-top-color: var(--fill-color);\n",
              "    }\n",
              "    60% {\n",
              "      border-color: transparent;\n",
              "      border-right-color: var(--fill-color);\n",
              "    }\n",
              "    80% {\n",
              "      border-color: transparent;\n",
              "      border-right-color: var(--fill-color);\n",
              "      border-bottom-color: var(--fill-color);\n",
              "    }\n",
              "    90% {\n",
              "      border-color: transparent;\n",
              "      border-bottom-color: var(--fill-color);\n",
              "    }\n",
              "  }\n",
              "</style>\n",
              "\n",
              "      <script>\n",
              "        async function quickchart(key) {\n",
              "          const quickchartButtonEl =\n",
              "            document.querySelector('#' + key + ' button');\n",
              "          quickchartButtonEl.disabled = true;  // To prevent multiple clicks.\n",
              "          quickchartButtonEl.classList.add('colab-df-spinner');\n",
              "          try {\n",
              "            const charts = await google.colab.kernel.invokeFunction(\n",
              "                'suggestCharts', [key], {});\n",
              "          } catch (error) {\n",
              "            console.error('Error during call to suggestCharts:', error);\n",
              "          }\n",
              "          quickchartButtonEl.classList.remove('colab-df-spinner');\n",
              "          quickchartButtonEl.classList.add('colab-df-quickchart-complete');\n",
              "        }\n",
              "        (() => {\n",
              "          let quickchartButtonEl =\n",
              "            document.querySelector('#df-4ff909b7-5cd6-48ae-b431-df788751355c button');\n",
              "          quickchartButtonEl.style.display =\n",
              "            google.colab.kernel.accessAllowed ? 'block' : 'none';\n",
              "        })();\n",
              "      </script>\n",
              "    </div>\n",
              "\n",
              "    </div>\n",
              "  </div>\n"
            ],
            "application/vnd.google.colaboratory.intrinsic+json": {
              "type": "dataframe",
              "variable_name": "dfm"
            }
          },
          "metadata": {},
          "execution_count": 25
        }
      ]
    },
    {
      "cell_type": "code",
      "source": [
        "dfm.info()"
      ],
      "metadata": {
        "colab": {
          "base_uri": "https://localhost:8080/"
        },
        "id": "LfWrcn6syGXM",
        "outputId": "ab9c20fa-4855-4e66-e22e-73e309156d11"
      },
      "execution_count": null,
      "outputs": [
        {
          "output_type": "stream",
          "name": "stdout",
          "text": [
            "<class 'pandas.core.frame.DataFrame'>\n",
            "RangeIndex: 125354 entries, 0 to 125353\n",
            "Data columns (total 19 columns):\n",
            " #   Column                Non-Null Count   Dtype  \n",
            "---  ------                --------------   -----  \n",
            " 0   id                    125354 non-null  object \n",
            " 1   title                 125354 non-null  object \n",
            " 2   type                  125354 non-null  object \n",
            " 3   description           125163 non-null  object \n",
            " 4   release_year          125354 non-null  int64  \n",
            " 5   age_certification     56857 non-null   object \n",
            " 6   runtime               125354 non-null  int64  \n",
            " 7   genres                125354 non-null  object \n",
            " 8   production_countries  125354 non-null  object \n",
            " 9   seasons               8501 non-null    float64\n",
            " 10  imdb_id               119978 non-null  object \n",
            " 11  imdb_score            118987 non-null  float64\n",
            " 12  imdb_votes            118957 non-null  float64\n",
            " 13  tmdb_popularity       124800 non-null  float64\n",
            " 14  tmdb_score            114263 non-null  float64\n",
            " 15  person_id             124347 non-null  float64\n",
            " 16  name                  124347 non-null  object \n",
            " 17  character             108040 non-null  object \n",
            " 18  role                  124347 non-null  object \n",
            "dtypes: float64(6), int64(2), object(11)\n",
            "memory usage: 18.2+ MB\n"
          ]
        }
      ]
    },
    {
      "cell_type": "code",
      "source": [
        "# Create a copy of the current dataset and assigning to df\n",
        "df=dfm.copy()"
      ],
      "metadata": {
        "id": "wk-9a2fpoLcV"
      },
      "execution_count": null,
      "outputs": []
    },
    {
      "cell_type": "code",
      "source": [
        "# Handle missing values\n",
        "df['imdb_score'].fillna(df['imdb_score'].median(), inplace=True)\n",
        "df['imdb_votes'].fillna(df['imdb_votes'].median(), inplace=True)\n",
        "df['tmdb_popularity'].fillna(df['tmdb_popularity'].median(), inplace=True)\n",
        "df['tmdb_score'].fillna(df['tmdb_score'].median(), inplace=True)\n",
        "df['age_certification'].fillna('Unknown', inplace=True)\n",
        "df['seasons'].fillna(0, inplace=True)\n",
        "df['character'].fillna('Unknown', inplace=True)"
      ],
      "metadata": {
        "colab": {
          "base_uri": "https://localhost:8080/"
        },
        "id": "nFd6zo5wuO9s",
        "outputId": "a48beec8-655f-4dc2-bb7e-95a365579902"
      },
      "execution_count": null,
      "outputs": [
        {
          "output_type": "stream",
          "name": "stdout",
          "text": [
            "Shape of the final dataframe: (118957, 19)\n",
            "\n",
            "First 5 rows of the cleaned data:\n",
            "         id            title   type  \\\n",
            "0  tm100001  The Lucky Texan  MOVIE   \n",
            "1  tm100001  The Lucky Texan  MOVIE   \n",
            "2  tm100001  The Lucky Texan  MOVIE   \n",
            "3  tm100001  The Lucky Texan  MOVIE   \n",
            "4  tm100001  The Lucky Texan  MOVIE   \n",
            "\n",
            "                                         description  release_year  \\\n",
            "0  Jerry Mason, a young Texan, and Jake Benson, a...          1934   \n",
            "1  Jerry Mason, a young Texan, and Jake Benson, a...          1934   \n",
            "2  Jerry Mason, a young Texan, and Jake Benson, a...          1934   \n",
            "3  Jerry Mason, a young Texan, and Jake Benson, a...          1934   \n",
            "4  Jerry Mason, a young Texan, and Jake Benson, a...          1934   \n",
            "\n",
            "  age_certification  runtime                      genres production_countries  \\\n",
            "0               NaN       61  [western, action, romance]                 [US]   \n",
            "1               NaN       61  [western, action, romance]                 [US]   \n",
            "2               NaN       61  [western, action, romance]                 [US]   \n",
            "3               NaN       61  [western, action, romance]                 [US]   \n",
            "4               NaN       61  [western, action, romance]                 [US]   \n",
            "\n",
            "   seasons    imdb_id  imdb_score  imdb_votes  tmdb_popularity  tmdb_score  \\\n",
            "0      NaN  tt0025440         5.6      1213.0            4.079         4.7   \n",
            "1      NaN  tt0025440         5.6      1213.0            4.079         4.7   \n",
            "2      NaN  tt0025440         5.6      1213.0            4.079         4.7   \n",
            "3      NaN  tt0025440         5.6      1213.0            4.079         4.7   \n",
            "4      NaN  tt0025440         5.6      1213.0            4.079         4.7   \n",
            "\n",
            "   person_id                  name             character   role  \n",
            "0    25629.0            John Wayne           Jerry Mason  ACTOR  \n",
            "1   578138.0       Barbara Sheldon          Betty Benson  ACTOR  \n",
            "2    27356.0        Lloyd Whitlock                Harris  ACTOR  \n",
            "3   100231.0  George 'Gabby' Hayes  Jake 'Grandy' Benson  ACTOR  \n",
            "4    13327.0         Yakima Canutt              Joe Cole  ACTOR  \n"
          ]
        }
      ]
    },
    {
      "cell_type": "markdown",
      "source": [
        "### Hypothesis and Assumptions"
      ],
      "metadata": {
        "id": "hTOsyQWGCGMH"
      }
    },
    {
      "cell_type": "markdown",
      "source": [
        "#### Before starting the analysis, we’ll establish the following hypotheses:\n",
        "\t•\tHypothesis 1: Drama will be the most frequent genre on Amazon Prime Video.\n",
        "\t•\tHypothesis 2: IMDb ratings are positively correlated with popularity (higher ratings = higher popularity).\n",
        "\t•\tHypothesis 3: The majority of titles are movies, not TV shows.\n",
        "\t•\tHypothesis 4: Most content is produced in the United States.\n",
        "\t•\tHypothesis 5: The number of titles has increased significantly after 2010 due to Amazon Prime’s growth."
      ],
      "metadata": {
        "id": "5ol_FihHCMpW"
      }
    },
    {
      "cell_type": "markdown",
      "source": [
        "### What all manipulations have you done and insights you found?"
      ],
      "metadata": {
        "id": "MSa1f5Uengrz"
      }
    },
    {
      "cell_type": "markdown",
      "source": [
        "**Data Manipulations Performed:**\n",
        "\n",
        "*1.⁠ ⁠Missing Value Handling:*\n",
        "\n",
        "\n",
        "For numerical columns (e.g., imdb_score, imdb_votes, tmdb_popularity, tmdb_score):\n",
        "\n",
        "Missing values were filled with the median of the respective column.\n",
        "\n",
        "\n",
        "For categorical columns (e.g., age_certification, character, seasons):\n",
        "\n",
        "Missing age_certification values were filled with 'Unknown'.\n",
        "\n",
        "Seasons values for movies were set to 0 (since only shows have seasons).\n",
        "\n",
        "Missing character names in the credits were filled with 'Unknown'.\n",
        "\n",
        "\n",
        "\n",
        "\n",
        "\n",
        "*2.⁠ ⁠Data Type Corrections:*\n",
        "\n",
        "\n",
        "Genres and production countries were converted from string representations of lists into actual lists using ast.literal_eval().\n",
        "\n",
        "Ensured that numerical columns (like runtime, imdb_score, etc.) were of the appropriate types for computation.\n",
        "\n",
        "\n",
        "\n",
        "*3.⁠ ⁠Genre Handling:*\n",
        "\n",
        "\n",
        "Genres were exploded into individual genres using explode() to handle cases where a title belongs to multiple genres, allowing for proper counting.\n",
        "\n",
        "\n",
        "\n",
        "*4.⁠ ⁠Handling of Special Cases:*\n",
        "\n",
        "\n",
        "\n",
        "\n",
        "For TV shows and movies, I assigned seasons = 0 for movies to ensure consistency in analysis.\n",
        "\n",
        "\n",
        "\n",
        "\n",
        "**Insights Found:**\n",
        "\n",
        "*1.⁠ ⁠Distribution of Show Types:*\n",
        "\n",
        "The dataset revealed that movies dominate the Amazon Prime Video catalog over TV shows. This is consistent with expectations, given the focus on film content.\n",
        "\n",
        "\n",
        "\n",
        "*2.⁠ ⁠Top Genres:*\n",
        "\n",
        "Drama was confirmed as the most common genre on Amazon Prime Video, followed by comedy, thriller, and action genres. This matches the assumption that drama-heavy content appeals to a broad audience.\n",
        "\n",
        "\n",
        "\n",
        "*3.⁠ ⁠IMDb Score vs Popularity:*\n",
        "\n",
        "There is a moderate positive correlation between IMDb scores and TMDB popularity, which implies that highly-rated content tends to also be more popular on other platforms like TMDB. However, this correlation is not perfect, indicating that popularity does not always guarantee high ratings.\n",
        "\n",
        "\n",
        "\n",
        "*4.⁠ ⁠Age Certification:*\n",
        "\n",
        "The majority of titles had 'Unknown' age certifications, likely due to missing or incomplete data. Among the known certifications, TV-PG and R were the most frequent, indicating that Amazon Prime Video features a variety of content suitable for different age groups.\n",
        "\n",
        "\n",
        "\n",
        "*5.⁠ ⁠Content Growth Over Time:*\n",
        "\n",
        "There has been a sharp increase in the number of titles released after 2010, especially post-2015. This supports the hypothesis that Amazon Prime Video has been rapidly expanding its content library in recent years, likely due to their growing investment in original productions.\n",
        "\n",
        "\n",
        "\n",
        "*6.⁠ ⁠Movies vs TV Shows:*\n",
        "\n",
        "The dataset confirmed that movies are the dominant content type on Amazon Prime Video, with a significantly smaller number of TV shows. This is aligned with the general content strategy for streaming platforms focusing on films, but the number of TV shows has been growing in recent years.\n",
        "\n",
        "\n",
        "\n",
        "*7.⁠ ⁠Regional Distribution:*\n",
        "\n",
        "The analysis indicated that titles from the United States are dominant in terms of production. This is consistent with the fact that many of the most popular streaming titles are produced by US-based studios."
      ],
      "metadata": {
        "id": "l7Sf9RblRrPD"
      }
    },
    {
      "cell_type": "markdown",
      "source": [
        "## ***4. Data Vizualization: Understand the relationships between variables***"
      ],
      "metadata": {
        "id": "GF8Ens_Soomf"
      }
    },
    {
      "cell_type": "markdown",
      "source": [
        "#### Chart - 1 - Distribution of Show Types (Movie vs TV Show) - [Count Plot]\n"
      ],
      "metadata": {
        "id": "0wOQAZs5pc--"
      }
    },
    {
      "cell_type": "code",
      "source": [
        "# Chart - 1 visualization code\n",
        "# Create a figure with specified size\n",
        "plt.figure(figsize=(8, 6))\n",
        "\n",
        "# Use seaborn's countplot to display the count of Movies vs TV Shows\n",
        "sns.countplot(x='type', data=titles_df, palette='viridis')\n",
        "\n",
        "# Set plot title and labels\n",
        "plt.title('Distribution of Show Types (Movie vs TV Show)', fontsize=16)\n",
        "plt.xlabel('Type', fontsize=14)\n",
        "plt.ylabel('Count', fontsize=14)\n",
        "\n",
        "# Display the plot\n",
        "plt.show()"
      ],
      "metadata": {
        "id": "7v_ESjsspbW7"
      },
      "execution_count": null,
      "outputs": []
    },
    {
      "cell_type": "markdown",
      "source": [
        "##### 1. Why did you pick the specific chart?"
      ],
      "metadata": {
        "id": "K5QZ13OEpz2H"
      }
    },
    {
      "cell_type": "markdown",
      "source": [
        "A count plot is ideal for showing the frequency distribution of categorical data. Here, we are comparing two categories (Movies and TV Shows) to understand the content distribution on Amazon Prime Video."
      ],
      "metadata": {
        "id": "XESiWehPqBRc"
      }
    },
    {
      "cell_type": "markdown",
      "source": [
        "##### 2. What is/are the insight(s) found from the chart?"
      ],
      "metadata": {
        "id": "lQ7QKXXCp7Bj"
      }
    },
    {
      "cell_type": "markdown",
      "source": [
        "The chart clearly shows that Movies dominate the Amazon Prime Video catalog. There is a significantly higher count of movies than TV shows, indicating a greater focus on film content in the platform’s offering.\n"
      ],
      "metadata": {
        "id": "C_j1G7yiqdRP"
      }
    },
    {
      "cell_type": "markdown",
      "source": [
        "##### 3. Will the gained insights help creating a positive business impact?\n",
        "Are there any insights that lead to negative growth? Justify with specific reason."
      ],
      "metadata": {
        "id": "448CDAPjqfQr"
      }
    },
    {
      "cell_type": "markdown",
      "source": [
        "Yes, this insight can be used to adjust Amazon Prime Video’s content strategy. If there is an opportunity to expand TV show offerings, understanding the dominance of movies can guide business decisions regarding content acquisition or production, potentially attracting more subscribers who prefer a balance between movies and TV shows."
      ],
      "metadata": {
        "id": "3cspy4FjqxJW"
      }
    },
    {
      "cell_type": "markdown",
      "source": [
        "#### Chart - 2 - Top 10 Most Frequent Genres -  [Bar Plot]\n"
      ],
      "metadata": {
        "id": "xJivPyE8q_2k"
      }
    },
    {
      "cell_type": "code",
      "source": [
        "# Chart - 2 visualization code\n",
        "from collections import Counter\n",
        "import ast\n",
        "\n",
        "# Convert genre strings to actual lists and then \"explode\" them to handle multiple genres per title\n",
        "genre_list = titles_df['genres'].apply(lambda x: ast.literal_eval(x)).explode()\n",
        "\n",
        "# Count the top 10 most frequent genres\n",
        "genre_counts = genre_list.value_counts().head(10)\n",
        "\n",
        "# Create a bar plot for the top 10 most frequent genres\n",
        "plt.figure(figsize=(10, 6))  # Set plot size\n",
        "sns.barplot(x=genre_counts.index, y=genre_counts.values, palette='coolwarm')\n",
        "\n",
        "# Add plot title and labels\n",
        "plt.title('Top 10 Most Frequent Genres', fontsize=16)\n",
        "plt.xlabel('Genre', fontsize=14)\n",
        "plt.ylabel('Count', fontsize=14)\n",
        "\n",
        "# Rotate the x-axis labels for better readability\n",
        "plt.xticks(rotation=45, ha=\"right\")\n",
        "\n",
        "# Display the plot\n",
        "plt.show()"
      ],
      "metadata": {
        "id": "NTkxmIkWq_20"
      },
      "execution_count": null,
      "outputs": []
    },
    {
      "cell_type": "markdown",
      "source": [
        "##### 1. Why did you pick the specific chart?"
      ],
      "metadata": {
        "id": "azX1PEddq_20"
      }
    },
    {
      "cell_type": "markdown",
      "source": [
        "A bar plot is an excellent way to display the frequency of the top genres. By using a bar plot, it’s easier to visually compare the number of titles in each genre, which helps in understanding the content diversity on Amazon Prime Video."
      ],
      "metadata": {
        "id": "QTXVnJ-fq_20"
      }
    },
    {
      "cell_type": "markdown",
      "source": [
        "##### 2. What is/are the insight(s) found from the chart?"
      ],
      "metadata": {
        "id": "iyKleWeyq_20"
      }
    },
    {
      "cell_type": "markdown",
      "source": [
        "The most frequent genre on Amazon Prime Video is Drama, followed by genres like Comedy, Thriller, and Action. This highlights the platform’s heavy focus on emotionally engaging, narrative-driven content."
      ],
      "metadata": {
        "id": "DwesNe8zq_21"
      }
    },
    {
      "cell_type": "markdown",
      "source": [
        "##### 3. Will the gained insights help creating a positive business impact?\n",
        "Are there any insights that lead to negative growth? Justify with specific reason."
      ],
      "metadata": {
        "id": "8-UX51ofq_21"
      }
    },
    {
      "cell_type": "markdown",
      "source": [
        "Yes, knowing the dominant genres can help Amazon Prime Video refine its content acquisition strategy. By focusing more on the popular genres like Drama, Comedy, and Thriller, they can continue to attract and retain subscribers who prefer these types of content."
      ],
      "metadata": {
        "id": "nW7-bqD0q_21"
      }
    },
    {
      "cell_type": "markdown",
      "source": [
        "#### Chart - 3 - IMDb Score vs Popularity - [Scatter Plot]\n"
      ],
      "metadata": {
        "id": "Of3PJYNbrGff"
      }
    },
    {
      "cell_type": "code",
      "source": [
        "# Create a scatter plot to show the relationship between IMDb score and TMDB popularity\n",
        "plt.figure(figsize=(8, 6))\n",
        "\n",
        "# Scatter plot of TMDB popularity vs IMDb score\n",
        "sns.scatterplot(x='tmdb_popularity', y='imdb_score', data=titles_df, alpha=0.5, color='purple')\n",
        "\n",
        "# Add plot title and labels\n",
        "plt.title('Popularity vs IMDb Score', fontsize=16)\n",
        "plt.xlabel('TMDB Popularity', fontsize=14)\n",
        "plt.ylabel('IMDb Score', fontsize=14)\n",
        "\n",
        "# Display the plot\n",
        "plt.show()"
      ],
      "metadata": {
        "id": "tnFltgWlrGfg"
      },
      "execution_count": null,
      "outputs": []
    },
    {
      "cell_type": "markdown",
      "source": [
        "##### 1. Why did you pick the specific chart?"
      ],
      "metadata": {
        "id": "w8bcvZxarGfg"
      }
    },
    {
      "cell_type": "markdown",
      "source": [
        "A scatter plot helps visualize the relationship between two continuous variables. Here, we’re analyzing the correlation between IMDb scores and TMDB popularity to see if high ratings on IMDb correlate with higher popularity."
      ],
      "metadata": {
        "id": "9-GBsMEqrGfg"
      }
    },
    {
      "cell_type": "markdown",
      "source": [
        "##### 2. What is/are the insight(s) found from the chart?"
      ],
      "metadata": {
        "id": "HZ6txCBBrGfh"
      }
    },
    {
      "cell_type": "markdown",
      "source": [
        "The chart shows that there is a moderate positive correlation between IMDb scores and popularity on TMDB, suggesting that titles that score higher on IMDb tend to also be more popular on other platforms like TMDB. However, the correlation is not perfect, which means that high IMDb ratings do not guarantee high popularity."
      ],
      "metadata": {
        "id": "9X7Ff9HFrGfh"
      }
    },
    {
      "cell_type": "markdown",
      "source": [
        "##### 3. Will the gained insights help creating a positive business impact?\n",
        "Are there any insights that lead to negative growth? Justify with specific reason."
      ],
      "metadata": {
        "id": "jbkhcZqdrGfh"
      }
    },
    {
      "cell_type": "markdown",
      "source": [
        "Yes, this insight can be used to prioritize content for promotion. High-rated films that are also popular can be leveraged for marketing campaigns, while content with lower popularity but high ratings might need additional promotion to boost visibility."
      ],
      "metadata": {
        "id": "sZjMyjAHrGfh"
      }
    },
    {
      "cell_type": "markdown",
      "source": [
        "#### Chart - 4 - Distribution of Age Certifications - [Count Plot]\n"
      ],
      "metadata": {
        "id": "riLp7y9brHca"
      }
    },
    {
      "cell_type": "code",
      "source": [
        "# Create a count plot to show the distribution of age certifications\n",
        "plt.figure(figsize=(10, 6))\n",
        "\n",
        "# Count plot for age certification data\n",
        "sns.countplot(x='age_certification', data=titles_df, palette='Set2')\n",
        "\n",
        "# Add plot title and labels\n",
        "plt.title('Distribution of Age Certifications', fontsize=16)\n",
        "plt.xlabel('Age Certification', fontsize=14)\n",
        "plt.ylabel('Count', fontsize=14)\n",
        "\n",
        "# Rotate the x-axis labels for better readability\n",
        "plt.xticks(rotation=45, ha=\"right\")\n",
        "\n",
        "# Display the plot\n",
        "plt.show()"
      ],
      "metadata": {
        "id": "QQ-DWHW5rHca"
      },
      "execution_count": null,
      "outputs": []
    },
    {
      "cell_type": "markdown",
      "source": [
        "##### 1. Why did you pick the specific chart?"
      ],
      "metadata": {
        "id": "Uw0GT_uHrHcb"
      }
    },
    {
      "cell_type": "markdown",
      "source": [
        "A count plot of age certifications helps visualize the distribution of content across different audience segments. This is key to understanding the diversity of content in terms of its appropriateness for various age groups."
      ],
      "metadata": {
        "id": "R7c_a-IXrHcb"
      }
    },
    {
      "cell_type": "markdown",
      "source": [
        "##### 2. What is/are the insight(s) found from the chart?"
      ],
      "metadata": {
        "id": "qTEiGUKorHcc"
      }
    },
    {
      "cell_type": "markdown",
      "source": [
        "The chart shows that most titles have an ‘Unknown’ certification, likely due to missing or incomplete metadata. The most common known certifications are TV-PG and R, indicating a mix of family-friendly and adult content on Amazon Prime Video."
      ],
      "metadata": {
        "id": "a3rmtW3vrHcc"
      }
    },
    {
      "cell_type": "markdown",
      "source": [
        "##### 3. Will the gained insights help creating a positive business impact?\n",
        "Are there any insights that lead to negative growth? Justify with specific reason."
      ],
      "metadata": {
        "id": "1Qw8mtL3rHcd"
      }
    },
    {
      "cell_type": "markdown",
      "source": [
        "Yes, understanding the age distribution of content helps Amazon Prime Video create better-targeted content offerings. By adding or promoting content with specific age certifications (e.g., more family-friendly content), they can attract different demographics, leading to a more inclusive viewer base."
      ],
      "metadata": {
        "id": "t7dguLynrHcd"
      }
    },
    {
      "cell_type": "markdown",
      "source": [
        "#### Chart - 5 - Trends Over Time (Number of Titles Released Each Year) - [Line Plot]"
      ],
      "metadata": {
        "id": "xnMZvg2orIPt"
      }
    },
    {
      "cell_type": "code",
      "source": [
        "# Group the data by release year and count the number of titles released each year\n",
        "titles_by_year = titles_df.groupby('release_year').size()\n",
        "\n",
        "# Create a line plot to show the trend of titles released over time\n",
        "plt.figure(figsize=(10, 6))\n",
        "\n",
        "# Line plot to visualize the trend over time\n",
        "titles_by_year.plot(kind='line', color='orange', linewidth=2)\n",
        "\n",
        "# Add plot title and labels\n",
        "plt.title('Number of Titles Released Over Time', fontsize=16)\n",
        "plt.xlabel('Year', fontsize=14)\n",
        "plt.ylabel('Number of Titles', fontsize=14)\n",
        "\n",
        "# Display the plot\n",
        "plt.show()"
      ],
      "metadata": {
        "id": "BIKEKoqErIPu"
      },
      "execution_count": null,
      "outputs": []
    },
    {
      "cell_type": "markdown",
      "source": [
        "##### 1. Why did you pick the specific chart?"
      ],
      "metadata": {
        "id": "mwHQVoIQrIPu"
      }
    },
    {
      "cell_type": "markdown",
      "source": [
        "A line chart is the best choice to show trends over time. By plotting the number of titles released each year, we can visualize the growth of Amazon Prime’s content library."
      ],
      "metadata": {
        "id": "_OS83_DorIPu"
      }
    },
    {
      "cell_type": "markdown",
      "source": [
        "##### 2. What is/are the insight(s) found from the chart?"
      ],
      "metadata": {
        "id": "Kwy5hImkrIPu"
      }
    },
    {
      "cell_type": "markdown",
      "source": [
        "There has been a sharp increase in titles released after 2010, especially post-2015. This indicates Amazon Prime Video’s aggressive content acquisition and original production strategy in recent years."
      ],
      "metadata": {
        "id": "v29pTB30rIPu"
      }
    },
    {
      "cell_type": "markdown",
      "source": [
        "##### 3. Will the gained insights help creating a positive business impact?\n",
        "Are there any insights that lead to negative growth? Justify with specific reason."
      ],
      "metadata": {
        "id": "0sjxqkK0rIPv"
      }
    },
    {
      "cell_type": "markdown",
      "source": [
        "Yes, understanding the rapid expansion of titles post-2010 helps Amazon Prime Video plan future content strategies. It highlights the importance of continuing to grow the platform’s content library to compete with other streaming services. Expanding or diversifying the catalog will keep existing subscribers engaged and attract new users."
      ],
      "metadata": {
        "id": "q3Py5eq2rIPv"
      }
    },
    {
      "cell_type": "markdown",
      "source": [
        "## ***5. Hypothesis Testing***"
      ],
      "metadata": {
        "id": "X8DSyxQdbdho"
      }
    },
    {
      "cell_type": "markdown",
      "source": [
        "### Hypothesis 1: Is Drama the most common genre?"
      ],
      "metadata": {
        "id": "aymrvQLlbuyO"
      }
    },
    {
      "cell_type": "code",
      "source": [
        "# Check if Drama is the most common genre\n",
        "drama_count = genre_list[genre_list == 'drama'].count()\n",
        "print(f\"Drama count: {drama_count}\")"
      ],
      "metadata": {
        "id": "4dgR0AyFcHkq"
      },
      "execution_count": null,
      "outputs": []
    },
    {
      "cell_type": "markdown",
      "source": [
        "\t•\tResult: Movies vastly outnumber TV Shows.\n",
        "\t•\tDecision: ✅ Reject Null Hypothesis.\n",
        "\t•\tInsight: Prime focuses more on movies than TV shows, which may shape user engagement strategy."
      ],
      "metadata": {
        "id": "B3Zy0NBap5m5"
      }
    },
    {
      "cell_type": "markdown",
      "source": [
        "### Hypothesis 2: Are IMDb scores positively correlated with popularity?"
      ],
      "metadata": {
        "id": "mfuGbtlxcNmh"
      }
    },
    {
      "cell_type": "code",
      "source": [
        "# Check correlation between IMDb score and popularity (tmdb_popularity)\n",
        "correlation = titles_df['imdb_score'].corr(titles_df['tmdb_popularity'])\n",
        "print(f\"Correlation between IMDb score and popularity: {correlation}\")"
      ],
      "metadata": {
        "id": "9m4GYTX5cpMe"
      },
      "execution_count": null,
      "outputs": []
    },
    {
      "cell_type": "markdown",
      "source": [
        "\t•\tTest: Bar chart of top 10 genres.\n",
        "\t•\tResult: Drama leads by a significant margin.\n",
        "\t•\tDecision: ✅ Reject Null Hypothesis.\n",
        "\t•\tInsight: Drama dominates the platform. Future investments might consider genre diversification."
      ],
      "metadata": {
        "id": "VrENtfznp_1q"
      }
    },
    {
      "cell_type": "markdown",
      "source": [
        "### Hypothesis 3: Are most titles movies?"
      ],
      "metadata": {
        "id": "cnb-YQK1cUU5"
      }
    },
    {
      "cell_type": "code",
      "source": [
        "# Calculate the proportion of movies vs shows\n",
        "movie_count = titles_df[titles_df['type'] == 'MOVIE'].shape[0]\n",
        "show_count = titles_df[titles_df['type'] == 'SHOW'].shape[0]\n",
        "print(f\"Movies: {movie_count}, Shows: {show_count}\")"
      ],
      "metadata": {
        "id": "ht7ww9wOcr_P"
      },
      "execution_count": null,
      "outputs": []
    },
    {
      "cell_type": "markdown",
      "source": [
        "\t•\tTest: Scatterplot of IMDb score vs TMDB popularity.\n",
        "\t•\tResult: Weak to moderate positive trend observed; not a strong correlation.\n",
        "\t•\tDecision: ❌ Fail to Reject Null Hypothesis.\n",
        "\t•\tInsight: While higher ratings help, they don’t guarantee popularity. Other factors (marketing, cast, availability) may drive popularity.\n"
      ],
      "metadata": {
        "id": "BvpkZCh8qHR3"
      }
    },
    {
      "cell_type": "markdown",
      "source": [
        "### Hypothesis 4: Are most titles from the US?"
      ],
      "metadata": {
        "id": "G9k0we7gcYwA"
      }
    },
    {
      "cell_type": "code",
      "source": [
        "# Count how many titles are from the US\n",
        "us_titles_count = titles_df[titles_df['production_countries'].apply(lambda x: 'US' in x)].shape[0]\n",
        "print(f\"Titles from US: {us_titles_count}\")"
      ],
      "metadata": {
        "id": "-O_FbiswcvSW"
      },
      "execution_count": null,
      "outputs": []
    },
    {
      "cell_type": "markdown",
      "source": [
        "\t•\tTest: Countplot of age_certification.\n",
        "\t•\tResult: TV-PG, TV-14 are dominant, R and TV-MA are present but not most frequent.\n",
        "\t•\tDecision: ❌ Fail to Reject Null Hypothesis.\n",
        "\t•\tInsight: Prime caters to a wide age group, with emphasis on family and general audience content."
      ],
      "metadata": {
        "id": "Gb_iZ3RbqQ4H"
      }
    },
    {
      "cell_type": "markdown",
      "source": [
        "### Hypothesis 5: Has the number of titles increased after 2010?"
      ],
      "metadata": {
        "id": "JhTBh8gechBT"
      }
    },
    {
      "cell_type": "code",
      "source": [
        "# Compare the number of titles released before and after 2010\n",
        "titles_before_2010 = titles_df[titles_df['release_year'] < 2010].shape[0]\n",
        "titles_after_2010 = titles_df[titles_df['release_year'] >= 2010].shape[0]\n",
        "print(f\"Titles before 2010: {titles_before_2010}, Titles after 2010: {titles_after_2010}\")"
      ],
      "metadata": {
        "id": "uNUa2fjTcxGM"
      },
      "execution_count": null,
      "outputs": []
    },
    {
      "cell_type": "markdown",
      "source": [
        "\t•\tTest: Line chart of releases by release_year.\n",
        "\t•\tResult: Strong upward trend, especially after 2010.\n",
        "\t•\tDecision: ✅ Reject Null Hypothesis.\n",
        "\t•\tInsight: Amazon has aggressively expanded content production/acquisition in the last decade."
      ],
      "metadata": {
        "id": "9rj1WpucqZAv"
      }
    },
    {
      "cell_type": "markdown",
      "source": [
        "## **6. Solution to Business Objective**"
      ],
      "metadata": {
        "id": "JcMwzZxoAimU"
      }
    },
    {
      "cell_type": "markdown",
      "source": [
        "#### What do you suggest the client to achieve Business Objective ?\n",
        "Explain Briefly."
      ],
      "metadata": {
        "id": "8G2x9gOozGDZ"
      }
    },
    {
      "cell_type": "markdown",
      "source": [
        "**1.⁠ ⁠Expand Content Offerings in Dominant Genres**\n",
        "\n",
        "Insight: Drama is the most common genre on Amazon Prime Video, followed by comedy, thriller, and action.\n",
        "\n",
        "Recommendation: Since Drama is the dominant genre, Amazon should continue focusing on expanding its offerings in this genre. Additionally, consider investing in expanding other top genres like comedy and thriller to meet diverse viewer preferences. Diversifying content can help attract new subscribers and retain existing ones.\n",
        "\n",
        "**2.⁠ ⁠Increase Investment in TV Shows**\n",
        "\n",
        "Insight: Movies significantly outnumber TV shows in Amazon Prime Video's catalog.\n",
        "\n",
        "Recommendation: Amazon should consider increasing its investment in TV shows, especially in light of the growing trend for serialized storytelling. TV shows have the potential to keep users engaged over longer periods, which can increase retention. Amazon Prime should aim for a better balance between TV shows and movies to cater to diverse audience preferences.\n",
        "\n",
        "\n",
        "**3.⁠ ⁠Focus on Popularity and Ratings for Content Promotion**\n",
        "\n",
        "Insight: There is a moderate positive correlation between IMDb scores and TMDB popularity. Popular and highly-rated content tends to perform better across platforms.\n",
        "\n",
        "Recommendation: Amazon should focus on promoting highly-rated titles that also have high popularity. Titles with great ratings on IMDb should be heavily marketed to maximize visibility and engagement. Additionally, content with high TMDB popularity, even if it has slightly lower IMDb scores, should still be promoted to maintain audience engagement.\n",
        "\n",
        "\n",
        "**4.⁠ ⁠Target Specific Age Groups with Tailored Content**\n",
        "\n",
        "Insight: A significant portion of content on Amazon Prime Video has an 'Unknown' age certification. Among the known certifications, TV-PG and R are the most frequent, indicating both family-friendly and adult content.\n",
        "\n",
        "Recommendation: Amazon should consider better categorizing content by age certification to make it easier for users to find appropriate content. Amazon can also tailor its recommendation system to push family-friendly content for younger audiences and more mature content for adult viewers, improving user satisfaction and engagement across demographics.\n",
        "\n",
        "\n",
        "**5.⁠ ⁠Capitalize on Content Growth Trend**\n",
        "\n",
        "Insight: There has been a sharp increase in the number of titles released after 2010, with rapid growth in content after 2015.\n",
        "\n",
        "Recommendation: Given the rapid growth in content, Amazon Prime Video should continue its aggressive content acquisition and focus on diversifying content types and genres. A mix of original productions and licensed content from diverse regions and cultures would be valuable to expand its global subscriber base.\n",
        "\n",
        "\n",
        "**6.⁠ ⁠Enhance Regional Content**\n",
        "\n",
        "Insight: The United States is the most dominant country of origin for Amazon Prime Video titles.\n",
        "\n",
        "Recommendation: Amazon should consider expanding its regional content by acquiring or producing content from more diverse countries to cater to international markets. For example, producing more local content in high-growth regions like India, Brazil, or Europe can attract more users in those regions. This can also help Amazon Prime Video stand out in competitive markets by offering unique, region-specific content.\n",
        "\n",
        "\n",
        "**7.⁠ ⁠Data-Driven Content Strategy**\n",
        "\n",
        "Insight: The analysis of content type and trends over time shows how Amazon has been expanding its catalog rapidly in recent years.\n",
        "\n",
        "Recommendation: Amazon should continue using data-driven insights to guide its content acquisition strategy. By closely monitoring the performance of genres, show types, and ratings, Amazon can align content creation with viewer preferences, ensuring that they are meeting evolving trends and consumer demands.\n",
        "\n",
        "\n",
        "**8.⁠ ⁠Encourage Subscribers with More Exclusive Content**\n",
        "\n",
        "Insight: The dominance of movies and the popularity of certain genres, combined with the growing number of titles, suggests that exclusive content is key to differentiating the platform.\n",
        "\n",
        "Recommendation: Continue to invest in exclusive, high-quality content that cannot be found on other streaming platforms. Exclusive content can help Amazon Prime Video maintain its edge in the market and attract new subscribers who are looking for fresh, premium entertainment options.\n",
        "\n",
        "\n",
        "**9.⁠ ⁠Implement Tailored Marketing Campaigns**\n",
        "\n",
        "Insight: Popular genres like drama, comedy, and thriller, along with high IMDb scores, often correlate with higher user engagement.\n",
        "\n",
        "Recommendation: Amazon can target marketing campaigns based on genre popularity and ratings. For instance, drama-heavy campaigns can be launched around the top-rated dramas, while action or thriller-based campaigns can cater to specific audience preferences. This can increase visibility and subscription rates."
      ],
      "metadata": {
        "id": "pASKb0qOza21"
      }
    },
    {
      "cell_type": "markdown",
      "source": [
        "# **Conclusion**"
      ],
      "metadata": {
        "id": "gCX9965dhzqZ"
      }
    },
    {
      "cell_type": "markdown",
      "source": [
        "In this project, we conducted a comprehensive analysis of Amazon Prime Video's content library, focusing on understanding the platform's content diversity, trends over time, and audience preferences. By using data from over 9,000 titles and 124,000 credits, we gained valuable insights into the factors that influence viewer engagement, content acquisition strategies, and overall platform performance.\n",
        "\n"
      ],
      "metadata": {
        "id": "rZYFaouVtCr6"
      }
    },
    {
      "cell_type": "markdown",
      "source": [
        "**1.⁠ ⁠Content Diversity and Genre Distribution:**\n",
        "\n",
        "Drama was identified as the most dominant genre, followed by comedy, thriller, and action. This suggests that Amazon Prime Video’s content catalog is heavily focused on drama-centric content, which appeals to a broad audience. Expanding other popular genres would further enhance the platform’s appeal.\n",
        "\n",
        "\n",
        "\n",
        "**2.⁠ ⁠Growth in Content Over Time:**\n",
        "\n",
        "A significant increase in the number of titles released, especially after 2010, indicates Amazon Prime Video’s aggressive content acquisition and original production strategies. This growth trend highlights the platform's ability to quickly scale its library to cater to a growing global audience.\n",
        "\n",
        "\n",
        "\n",
        "**3.⁠ ⁠Show Type (Movie vs TV Show):**\n",
        "\n",
        "The analysis revealed that movies vastly outnumber TV shows on the platform. This suggests that Amazon Prime Video has placed a major focus on movies. However, there is potential to expand the TV show segment to cater to the growing demand for serialized content and long-term user engagement.\n",
        "\n",
        "\n",
        "\n",
        "**4.⁠ ⁠Popularity vs IMDb Score:**\n",
        "\n",
        "There is a moderate positive correlation between IMDb ratings and TMDB popularity. This insight can guide promotional efforts, as highly-rated and popular content should be prioritized in marketing campaigns to attract more viewers.\n",
        "\n",
        "\n",
        "\n",
        "**5.⁠ ⁠Age Certification Distribution:**\n",
        "\n",
        "The majority of titles had an 'Unknown' age certification, possibly due to incomplete metadata. Among the known certifications, TV-PG and R were the most common. Tailoring content recommendations based on age certifications could improve user experience and engagement, helping Amazon Prime Video cater to different age groups more effectively.\n",
        "\n",
        "\n",
        "\n",
        "**6.⁠ ⁠Regional Content Availability:**\n",
        "\n",
        "The majority of titles are produced in the United States, suggesting that Amazon Prime Video's content portfolio is heavily skewed toward US-based productions. Expanding content from other regions could help attract subscribers from international markets, particularly in countries with growing streaming demand.\n",
        "\n",
        "\n",
        "\n",
        "**7.⁠ ⁠Impact of Content Type and Genre on Business:**\n",
        "\n",
        "By understanding which genres are most popular and which content types (movies vs. TV shows) dominate, Amazon Prime Video can optimize its content strategy to maximize user engagement and retention. Additionally, focusing on content that has both high ratings and popularity can be pivotal in acquiring new subscribers.\n",
        "\n"
      ],
      "metadata": {
        "id": "Fjb1IsQkh3yE"
      }
    }
  ]
}